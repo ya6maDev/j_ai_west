{
 "cells": [
  {
   "cell_type": "markdown",
   "metadata": {},
   "source": [
    "# 畳み込みニューラルネットワーク"
   ]
  },
  {
   "cell_type": "markdown",
   "metadata": {},
   "source": [
    "畳み込みニューラルネットワーク(convolutional neural network:CNN)は、ディープラーニングの手法の一つ。  \n",
    "画像認識や音声認識の分野で一定の成果を出している。"
   ]
  },
  {
   "cell_type": "markdown",
   "metadata": {},
   "source": [
    "## 1.全体の構造"
   ]
  },
  {
   "cell_type": "markdown",
   "metadata": {},
   "source": [
    "* CNNもこれまでのニューラルネットワークと同様に、レゴブロックのようにレイアを組み合わせることで作ることが出来る。\n",
    "* CNNの場合、新たに**「Convolutionレイア(畳み込み層)」**と**「Poolingレイア(プーリング層)」**が登場する。"
   ]
  },
  {
   "cell_type": "markdown",
   "metadata": {},
   "source": [
    "これまで見てきたニューラルネットワークは、隣接する層の全てのニューロン間で結合があった。これを**「全結合」**という。  \n",
    "以下の図のように全結合のニューラルネットワークは、Affineレイアの後に活性化関数のReLUレイア(もしくはSigmoidレイア)が続きます。  \n",
    "最後にSoftmaxレイアで最終的な結果(確率)を出力している。"
   ]
  },
  {
   "cell_type": "markdown",
   "metadata": {},
   "source": [
    "<img src=\"./img/7-1.png\" title=\"全結合層(Affineレイア)によるネットワークの例\" width=\"800\" height=\"500\" />"
   ]
  },
  {
   "cell_type": "markdown",
   "metadata": {},
   "source": [
    "下図のように、CNNでは新しく「Convolutionレイア」と「Poolingレイア」が加わる。  \n",
    "CNNのレイアのつながり順は**「Convolution - ReLU - Pooling」**という流れになる。(Poolingレイアは省略されることもある)  \n",
    "CNNであっても出力に近い層ではこれまでの「Affine - Softmax」という組み合わせが利用される。"
   ]
  },
  {
   "cell_type": "markdown",
   "metadata": {},
   "source": [
    "<img src=\"./img/7-2.png\" title=\"CNNによるネットワークの例\" width=\"800\" height=\"500\" />"
   ]
  },
  {
   "cell_type": "markdown",
   "metadata": {},
   "source": [
    "## 2.畳み込み層"
   ]
  },
  {
   "cell_type": "markdown",
   "metadata": {},
   "source": [
    "CNNでは、**「パティング」**、**「ストライド」**などのCNN特有の用語が登場する。  \n",
    "また各層を流れるデータは形状のあるデータ(例えば、3次元のデータ)になり、これまでの全結合のネットワークとは異なる。"
   ]
  },
  {
   "cell_type": "markdown",
   "metadata": {},
   "source": [
    "### 2.1. 全結合層の問題点"
   ]
  },
  {
   "cell_type": "markdown",
   "metadata": {},
   "source": [
    "全結合層の問題点は**「データの形状が無視されてしまう」**こと。  "
   ]
  },
  {
   "cell_type": "markdown",
   "metadata": {},
   "source": [
    "例えば、入力データが画像の場合、通常は縦・横・チャネル方向の3次元の形状である。  \n",
    "しかし、全結合層に入力するときは、3次元のデータを平らにして、1次元に変換する必要がある。\n",
    "\n",
    "画像は3次元の形状であり、この形状には大切な空間的な情報も含まれる。  \n",
    "例えば、空間的に近いピクセルは似たような値であったり、RGBの各チャネル間にはそれぞれに密接な関連性があったり・・・等。   \n",
    "**全結合層は、形状を無視して全ての入力データを同等のニューロンとして扱うため、形状に関する情報を活かすことが出来ない。**"
   ]
  },
  {
   "cell_type": "markdown",
   "metadata": {},
   "source": [
    "一方、畳み込み層(Convolutionレイア)は、**「データの形状を維持」**する。"
   ]
  },
  {
   "cell_type": "markdown",
   "metadata": {},
   "source": [
    "画像の場合、**入力データを3次元のデータとして受け取り、同じく3次元のデータとして、次の層にデータを出力する。**  \n",
    "そのため、CNNでは画像などの形状をゆう自他データを正しく理解出来る(可能性がある)"
   ]
  },
  {
   "cell_type": "markdown",
   "metadata": {},
   "source": [
    "CNNでは、畳み込み層の入出力データを「特徴マップ」という場合がある。  \n",
    "更に、畳み込み層の入力データを「入力特徴マップ」、出力データを「出力特徴マップ」と呼ぶことがある。"
   ]
  },
  {
   "cell_type": "markdown",
   "metadata": {},
   "source": [
    "### 2.2. 畳み込み演算"
   ]
  },
  {
   "cell_type": "markdown",
   "metadata": {},
   "source": [
    "畳み込み層で行う処理は「畳み込み演算」であり、畳み込み演算は画像処理で言うと、「フィルター処理」に相当する。"
   ]
  },
  {
   "cell_type": "markdown",
   "metadata": {},
   "source": [
    "<img src=\"./img/7-3.png\" title=\"畳み込み演算の例\" width=\"600\" height=\"300\" />"
   ]
  },
  {
   "cell_type": "markdown",
   "metadata": {},
   "source": [
    "### 2.3 パディング"
   ]
  },
  {
   "cell_type": "markdown",
   "metadata": {},
   "source": [
    "畳み込み層の処理を行う前に、入力データの周囲に固定のデータ(例えば0など)を埋め込むこと。"
   ]
  },
  {
   "cell_type": "markdown",
   "metadata": {},
   "source": [
    "### 2.4 ストライド"
   ]
  },
  {
   "cell_type": "markdown",
   "metadata": {},
   "source": [
    "フィルターを適応する位置の間隔をストライド(stride)と言う。"
   ]
  },
  {
   "cell_type": "markdown",
   "metadata": {},
   "source": [
    "## 3.プーリング層"
   ]
  },
  {
   "cell_type": "markdown",
   "metadata": {},
   "source": [
    "プーリングは、縦・横方向の空間を小さくする演算のこと。"
   ]
  },
  {
   "cell_type": "markdown",
   "metadata": {},
   "source": [
    "下図は、「2 * 2」のMaxプーリングをストライド2で行った場合の処理手順。"
   ]
  },
  {
   "cell_type": "markdown",
   "metadata": {},
   "source": [
    "<img src=\"./img/7-4.png\" title=\"プーリングの処理手順\" width=\"500\" height=\"300\" />"
   ]
  },
  {
   "cell_type": "markdown",
   "metadata": {},
   "source": [
    "### 3.1 プーリング層の特徴"
   ]
  },
  {
   "cell_type": "markdown",
   "metadata": {},
   "source": [
    "* 学習するパラメータがない\n",
    "\n",
    "プーリング層は、畳み込み層と違って、学習するパラメータを持たない。  \n",
    "プーリングは、対象領域から最大値を取る(もしくは平均値を取る)だけの処理なので、学習すべきパラメータが存在しない。"
   ]
  },
  {
   "cell_type": "markdown",
   "metadata": {},
   "source": [
    "* チャンネル数は変化しない\n",
    "\n",
    "プーリングの演算結果によって、入力データと出力データのチャンネル数は変化しない。"
   ]
  },
  {
   "cell_type": "markdown",
   "metadata": {},
   "source": [
    "* 微小な位置変化に足ししてロバスト(頑健)\n",
    "\n",
    "入力データの小さなズレに対して、プーリングは同じような結果を返す。  \n",
    "そのため、入力データの微小なズレに対して、ロバストです。\n",
    "\n",
    "ロバスト ［2］ 【robust】  \n",
    "①頑健なこと。がっしりしていること。また、確固としていること。  \n",
    "②コンピューターのプログラムが、起こったエラーに自動的に対処して処理を続行すること。"
   ]
  }
 ],
 "metadata": {
  "kernelspec": {
   "display_name": "Python 3",
   "language": "python",
   "name": "python3"
  },
  "language_info": {
   "codemirror_mode": {
    "name": "ipython",
    "version": 3
   },
   "file_extension": ".py",
   "mimetype": "text/x-python",
   "name": "python",
   "nbconvert_exporter": "python",
   "pygments_lexer": "ipython3",
   "version": "3.6.6"
  }
 },
 "nbformat": 4,
 "nbformat_minor": 2
}
