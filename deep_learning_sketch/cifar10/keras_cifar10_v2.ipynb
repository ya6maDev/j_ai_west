{
 "cells": [
  {
   "cell_type": "code",
   "execution_count": 1,
   "metadata": {},
   "outputs": [
    {
     "name": "stderr",
     "output_type": "stream",
     "text": [
      "C:\\Users\\y5a1m\\Anaconda3\\envs\\tf180\\lib\\site-packages\\h5py\\__init__.py:36: FutureWarning: Conversion of the second argument of issubdtype from `float` to `np.floating` is deprecated. In future, it will be treated as `np.float64 == np.dtype(float).type`.\n",
      "  from ._conv import register_converters as _register_converters\n",
      "Using TensorFlow backend.\n"
     ]
    }
   ],
   "source": [
    "from __future__ import print_function\n",
    "import numpy as np\n",
    "from keras.datasets import cifar10\n",
    "from keras.models import Sequential\n",
    "from keras.layers.core import Dense, Activation\n",
    "from keras.optimizers import SGD\n",
    "from keras.utils import np_utils\n",
    "from keras.callbacks import EarlyStopping\n",
    "import matplotlib.pyplot as plt\n",
    "\n",
    "%matplotlib inline"
   ]
  },
  {
   "cell_type": "code",
   "execution_count": 2,
   "metadata": {},
   "outputs": [],
   "source": [
    "#シード値を固定\n",
    "np.random.seed(1671)"
   ]
  },
  {
   "cell_type": "code",
   "execution_count": 3,
   "metadata": {},
   "outputs": [],
   "source": [
    "# 定数を定義\n",
    "NB_EPOCH = 200\n",
    "BATCH_SIZE = 128\n",
    "VERBOSE = 1\n",
    "NB_CLASSES = 10\n",
    "OPTIMIZER = SGD()\n",
    "N_HIDDEN = 128\n",
    "VALIDATION_SPLIT = 0.2"
   ]
  },
  {
   "cell_type": "code",
   "execution_count": 4,
   "metadata": {},
   "outputs": [
    {
     "name": "stdout",
     "output_type": "stream",
     "text": [
      "(50000, 32, 32, 3) (50000, 1)\n",
      "(10000, 32, 32, 3) (10000, 1)\n"
     ]
    }
   ],
   "source": [
    "# データ・セットをロードする\n",
    "(X_train, y_train), (X_test, y_test) = cifar10.load_data()\n",
    "print(X_train.shape, y_train.shape)\n",
    "print(X_test.shape, y_test.shape)"
   ]
  },
  {
   "cell_type": "code",
   "execution_count": 5,
   "metadata": {},
   "outputs": [],
   "source": [
    "RESHAPED = 32 * 32 * 3\n",
    "X_train = X_train.reshape(50000, RESHAPED)\n",
    "X_test = X_test.reshape(10000, RESHAPED)\n",
    "X_train = X_train.astype('float32')\n",
    "X_test = X_test.astype('float32')"
   ]
  },
  {
   "cell_type": "code",
   "execution_count": 6,
   "metadata": {},
   "outputs": [],
   "source": [
    "# 画素値を0-1に変換\n",
    "X_train /= 255.0\n",
    "X_test /= 255.0"
   ]
  },
  {
   "cell_type": "code",
   "execution_count": 7,
   "metadata": {},
   "outputs": [],
   "source": [
    "# クラスラベル（0-9）をone-hotエンコーディング形式に変換\n",
    "Y_train = np_utils.to_categorical(y_train, NB_CLASSES)\n",
    "Y_test = np_utils.to_categorical(y_test, NB_CLASSES)"
   ]
  },
  {
   "cell_type": "code",
   "execution_count": 8,
   "metadata": {},
   "outputs": [
    {
     "name": "stdout",
     "output_type": "stream",
     "text": [
      "_________________________________________________________________\n",
      "Layer (type)                 Output Shape              Param #   \n",
      "=================================================================\n",
      "dense_1 (Dense)              (None, 128)               393344    \n",
      "_________________________________________________________________\n",
      "activation_1 (Activation)    (None, 128)               0         \n",
      "_________________________________________________________________\n",
      "dense_2 (Dense)              (None, 128)               16512     \n",
      "_________________________________________________________________\n",
      "activation_2 (Activation)    (None, 128)               0         \n",
      "_________________________________________________________________\n",
      "dense_3 (Dense)              (None, 10)                1290      \n",
      "_________________________________________________________________\n",
      "activation_3 (Activation)    (None, 10)                0         \n",
      "=================================================================\n",
      "Total params: 411,146\n",
      "Trainable params: 411,146\n",
      "Non-trainable params: 0\n",
      "_________________________________________________________________\n"
     ]
    }
   ],
   "source": [
    "# モデルの定義\n",
    "model = Sequential()\n",
    "model.add(Dense(N_HIDDEN, input_shape=(RESHAPED,)))\n",
    "model.add(Activation('relu'))\n",
    "\n",
    "model.add(Dense(N_HIDDEN))\n",
    "model.add(Activation('relu'))\n",
    "\n",
    "model.add(Dense(NB_CLASSES))\n",
    "model.add(Activation('softmax'))\n",
    "\n",
    "model.summary()"
   ]
  },
  {
   "cell_type": "code",
   "execution_count": 9,
   "metadata": {},
   "outputs": [],
   "source": [
    "model.compile(loss='categorical_crossentropy',\n",
    "              optimizer=OPTIMIZER,\n",
    "              metrics=['accuracy'])"
   ]
  },
  {
   "cell_type": "code",
   "execution_count": 10,
   "metadata": {},
   "outputs": [],
   "source": [
    "# コールバックの設定\n",
    "earlystopping = EarlyStopping(monitor='val_loss', patience=10, verbose=1)\n",
    "callbacks = [earlystopping]"
   ]
  },
  {
   "cell_type": "code",
   "execution_count": 11,
   "metadata": {},
   "outputs": [
    {
     "name": "stdout",
     "output_type": "stream",
     "text": [
      "Train on 40000 samples, validate on 10000 samples\n",
      "Epoch 1/200\n",
      "40000/40000 [==============================] - 4s 103us/step - loss: 2.0699 - acc: 0.2559 - val_loss: 1.9647 - val_acc: 0.2929\n",
      "Epoch 2/200\n",
      "40000/40000 [==============================] - 4s 97us/step - loss: 1.8765 - acc: 0.3384 - val_loss: 1.8547 - val_acc: 0.3470\n",
      "Epoch 3/200\n",
      "40000/40000 [==============================] - 4s 89us/step - loss: 1.8076 - acc: 0.3635 - val_loss: 1.7990 - val_acc: 0.3681\n",
      "Epoch 4/200\n",
      "40000/40000 [==============================] - 4s 92us/step - loss: 1.7629 - acc: 0.3797 - val_loss: 1.7757 - val_acc: 0.3690\n",
      "Epoch 5/200\n",
      "40000/40000 [==============================] - 4s 92us/step - loss: 1.7259 - acc: 0.3929 - val_loss: 1.7679 - val_acc: 0.3819\n",
      "Epoch 6/200\n",
      "40000/40000 [==============================] - 4s 91us/step - loss: 1.6945 - acc: 0.4063 - val_loss: 1.7191 - val_acc: 0.3983\n",
      "Epoch 7/200\n",
      "40000/40000 [==============================] - 3s 86us/step - loss: 1.6688 - acc: 0.4130 - val_loss: 1.7100 - val_acc: 0.3959\n",
      "Epoch 8/200\n",
      "40000/40000 [==============================] - 4s 90us/step - loss: 1.6446 - acc: 0.4232 - val_loss: 1.6702 - val_acc: 0.4124\n",
      "Epoch 9/200\n",
      "40000/40000 [==============================] - 3s 87us/step - loss: 1.6258 - acc: 0.4286 - val_loss: 1.6974 - val_acc: 0.4050\n",
      "Epoch 10/200\n",
      "40000/40000 [==============================] - 4s 89us/step - loss: 1.6064 - acc: 0.4356 - val_loss: 1.6437 - val_acc: 0.4223\n",
      "Epoch 11/200\n",
      "40000/40000 [==============================] - 3s 87us/step - loss: 1.5879 - acc: 0.4419 - val_loss: 1.6319 - val_acc: 0.4266\n",
      "Epoch 12/200\n",
      "40000/40000 [==============================] - 4s 88us/step - loss: 1.5718 - acc: 0.4474 - val_loss: 1.6324 - val_acc: 0.4204\n",
      "Epoch 13/200\n",
      "40000/40000 [==============================] - 4s 88us/step - loss: 1.5603 - acc: 0.4504 - val_loss: 1.6120 - val_acc: 0.4299\n",
      "Epoch 14/200\n",
      "40000/40000 [==============================] - 3s 87us/step - loss: 1.5454 - acc: 0.4558 - val_loss: 1.6080 - val_acc: 0.4328\n",
      "Epoch 15/200\n",
      "40000/40000 [==============================] - 3s 87us/step - loss: 1.5338 - acc: 0.4611 - val_loss: 1.5800 - val_acc: 0.4452\n",
      "Epoch 16/200\n",
      "40000/40000 [==============================] - 4s 88us/step - loss: 1.5219 - acc: 0.4641 - val_loss: 1.5824 - val_acc: 0.4444\n",
      "Epoch 17/200\n",
      "40000/40000 [==============================] - 3s 86us/step - loss: 1.5100 - acc: 0.4716 - val_loss: 1.6326 - val_acc: 0.4235\n",
      "Epoch 18/200\n",
      "40000/40000 [==============================] - 3s 86us/step - loss: 1.5000 - acc: 0.4727 - val_loss: 1.5581 - val_acc: 0.4477\n",
      "Epoch 19/200\n",
      "40000/40000 [==============================] - 4s 90us/step - loss: 1.4870 - acc: 0.4780 - val_loss: 1.5687 - val_acc: 0.4505\n",
      "Epoch 20/200\n",
      "40000/40000 [==============================] - 3s 87us/step - loss: 1.4772 - acc: 0.4803 - val_loss: 1.5449 - val_acc: 0.4613\n",
      "Epoch 21/200\n",
      "40000/40000 [==============================] - 4s 92us/step - loss: 1.4658 - acc: 0.4837 - val_loss: 1.5233 - val_acc: 0.4659\n",
      "Epoch 22/200\n",
      "40000/40000 [==============================] - 3s 86us/step - loss: 1.4591 - acc: 0.4874 - val_loss: 1.7325 - val_acc: 0.3996\n",
      "Epoch 23/200\n",
      "40000/40000 [==============================] - 3s 87us/step - loss: 1.4511 - acc: 0.4879 - val_loss: 1.5778 - val_acc: 0.4418\n",
      "Epoch 24/200\n",
      "40000/40000 [==============================] - 4s 103us/step - loss: 1.4345 - acc: 0.4957 - val_loss: 1.5578 - val_acc: 0.4481\n",
      "Epoch 25/200\n",
      "40000/40000 [==============================] - 4s 100us/step - loss: 1.4276 - acc: 0.4985 - val_loss: 1.6237 - val_acc: 0.4382\n",
      "Epoch 26/200\n",
      "40000/40000 [==============================] - 4s 94us/step - loss: 1.4250 - acc: 0.4998 - val_loss: 1.6189 - val_acc: 0.4348\n",
      "Epoch 27/200\n",
      "40000/40000 [==============================] - 4s 90us/step - loss: 1.4135 - acc: 0.5030 - val_loss: 1.5417 - val_acc: 0.4550\n",
      "Epoch 28/200\n",
      "40000/40000 [==============================] - 3s 86us/step - loss: 1.4027 - acc: 0.5080 - val_loss: 1.5081 - val_acc: 0.4783\n",
      "Epoch 29/200\n",
      "40000/40000 [==============================] - 3s 84us/step - loss: 1.3966 - acc: 0.5079 - val_loss: 1.5410 - val_acc: 0.4599\n",
      "Epoch 30/200\n",
      "40000/40000 [==============================] - 3s 85us/step - loss: 1.3887 - acc: 0.5119 - val_loss: 1.5091 - val_acc: 0.4685\n",
      "Epoch 31/200\n",
      "40000/40000 [==============================] - 3s 86us/step - loss: 1.3846 - acc: 0.5126 - val_loss: 1.5118 - val_acc: 0.4704\n",
      "Epoch 32/200\n",
      "40000/40000 [==============================] - 3s 84us/step - loss: 1.3724 - acc: 0.5163 - val_loss: 1.4644 - val_acc: 0.4892\n",
      "Epoch 33/200\n",
      "40000/40000 [==============================] - 3s 85us/step - loss: 1.3610 - acc: 0.5202 - val_loss: 1.4946 - val_acc: 0.4705\n",
      "Epoch 34/200\n",
      "40000/40000 [==============================] - 3s 85us/step - loss: 1.3574 - acc: 0.5210 - val_loss: 1.4732 - val_acc: 0.4799\n",
      "Epoch 35/200\n",
      "40000/40000 [==============================] - 3s 85us/step - loss: 1.3498 - acc: 0.5250 - val_loss: 1.5904 - val_acc: 0.4571\n",
      "Epoch 36/200\n",
      "40000/40000 [==============================] - 3s 85us/step - loss: 1.3455 - acc: 0.5257 - val_loss: 1.4936 - val_acc: 0.4835\n",
      "Epoch 37/200\n",
      "40000/40000 [==============================] - 3s 84us/step - loss: 1.3361 - acc: 0.5298 - val_loss: 1.4819 - val_acc: 0.4797\n",
      "Epoch 38/200\n",
      "40000/40000 [==============================] - 3s 85us/step - loss: 1.3314 - acc: 0.5318 - val_loss: 1.4861 - val_acc: 0.4843\n",
      "Epoch 39/200\n",
      "40000/40000 [==============================] - 3s 84us/step - loss: 1.3236 - acc: 0.5333 - val_loss: 1.4847 - val_acc: 0.4745\n",
      "Epoch 40/200\n",
      "40000/40000 [==============================] - 3s 85us/step - loss: 1.3210 - acc: 0.5342 - val_loss: 1.4434 - val_acc: 0.4925\n",
      "Epoch 41/200\n",
      "40000/40000 [==============================] - 3s 84us/step - loss: 1.3136 - acc: 0.5369 - val_loss: 1.5059 - val_acc: 0.4729\n",
      "Epoch 42/200\n",
      "40000/40000 [==============================] - 3s 84us/step - loss: 1.3073 - acc: 0.5396 - val_loss: 1.5491 - val_acc: 0.4599\n",
      "Epoch 43/200\n",
      "40000/40000 [==============================] - 3s 86us/step - loss: 1.3011 - acc: 0.5419 - val_loss: 1.4982 - val_acc: 0.4800\n",
      "Epoch 44/200\n",
      "40000/40000 [==============================] - 3s 85us/step - loss: 1.2953 - acc: 0.5425 - val_loss: 1.4273 - val_acc: 0.5056\n",
      "Epoch 45/200\n",
      "40000/40000 [==============================] - 3s 85us/step - loss: 1.2875 - acc: 0.5463 - val_loss: 1.5442 - val_acc: 0.4686\n",
      "Epoch 46/200\n",
      "40000/40000 [==============================] - 3s 84us/step - loss: 1.2818 - acc: 0.5477 - val_loss: 1.4426 - val_acc: 0.4947\n",
      "Epoch 47/200\n",
      "40000/40000 [==============================] - 3s 84us/step - loss: 1.2741 - acc: 0.5516 - val_loss: 1.4253 - val_acc: 0.4997\n",
      "Epoch 48/200\n",
      "40000/40000 [==============================] - 3s 84us/step - loss: 1.2711 - acc: 0.5517 - val_loss: 1.4715 - val_acc: 0.4845\n",
      "Epoch 49/200\n",
      "40000/40000 [==============================] - 3s 84us/step - loss: 1.2656 - acc: 0.5529 - val_loss: 1.5632 - val_acc: 0.4606\n",
      "Epoch 50/200\n",
      "40000/40000 [==============================] - 3s 85us/step - loss: 1.2601 - acc: 0.5558 - val_loss: 1.4114 - val_acc: 0.5068\n",
      "Epoch 51/200\n",
      "40000/40000 [==============================] - 3s 85us/step - loss: 1.2556 - acc: 0.5562 - val_loss: 1.4450 - val_acc: 0.4973\n",
      "Epoch 52/200\n",
      "40000/40000 [==============================] - 3s 86us/step - loss: 1.2497 - acc: 0.5579 - val_loss: 1.5049 - val_acc: 0.4754\n",
      "Epoch 53/200\n",
      "40000/40000 [==============================] - 3s 83us/step - loss: 1.2423 - acc: 0.5630 - val_loss: 1.4375 - val_acc: 0.4985\n",
      "Epoch 54/200\n",
      "40000/40000 [==============================] - 3s 84us/step - loss: 1.2361 - acc: 0.5644 - val_loss: 1.5372 - val_acc: 0.4591\n",
      "Epoch 55/200\n",
      "40000/40000 [==============================] - 4s 90us/step - loss: 1.2367 - acc: 0.5661 - val_loss: 1.4556 - val_acc: 0.4922\n",
      "Epoch 56/200\n",
      "40000/40000 [==============================] - 4s 90us/step - loss: 1.2278 - acc: 0.5664 - val_loss: 1.4761 - val_acc: 0.4806\n",
      "Epoch 57/200\n",
      "40000/40000 [==============================] - 3s 85us/step - loss: 1.2265 - acc: 0.5682 - val_loss: 1.5596 - val_acc: 0.4619\n",
      "Epoch 58/200\n",
      "40000/40000 [==============================] - 3s 84us/step - loss: 1.2185 - acc: 0.5733 - val_loss: 1.4226 - val_acc: 0.5011\n",
      "Epoch 59/200\n"
     ]
    },
    {
     "name": "stdout",
     "output_type": "stream",
     "text": [
      "40000/40000 [==============================] - 3s 86us/step - loss: 1.2149 - acc: 0.5728 - val_loss: 1.4199 - val_acc: 0.5096\n",
      "Epoch 60/200\n",
      "40000/40000 [==============================] - 3s 85us/step - loss: 1.2107 - acc: 0.5768 - val_loss: 1.4706 - val_acc: 0.4921\n",
      "Epoch 00060: early stopping\n"
     ]
    }
   ],
   "source": [
    "hist = model.fit(X_train, Y_train,\n",
    "          batch_size=BATCH_SIZE, \n",
    "          epochs=NB_EPOCH,\n",
    "          verbose=VERBOSE, \n",
    "          callbacks=callbacks,\n",
    "          validation_split=VALIDATION_SPLIT)"
   ]
  },
  {
   "cell_type": "code",
   "execution_count": 12,
   "metadata": {},
   "outputs": [
    {
     "data": {
      "image/png": "[encoded data removed]",
      "text/plain": [
       "<Figure size 432x288 with 1 Axes>"
      ]
     },
     "metadata": {},
     "output_type": "display_data"
    }
   ],
   "source": [
    "'''\n",
    "学習の進み具合を可視化\n",
    "'''\n",
    "acc = hist.history['val_acc']\n",
    "loss = hist.history['val_loss']\n",
    "\n",
    "plt.rc('font', family='serif')\n",
    "fig = plt.figure()\n",
    "plt.plot(range(len(loss)), loss,\n",
    "         label='loss', color='black')\n",
    "plt.xlabel('epochs')\n",
    "plt.show()"
   ]
  },
  {
   "cell_type": "code",
   "execution_count": 13,
   "metadata": {},
   "outputs": [
    {
     "name": "stdout",
     "output_type": "stream",
     "text": [
      "10000/10000 [==============================] - 1s 69us/step\n",
      "\n",
      "Test score: 1.4604008682250977\n",
      "Test accuracy: 0.4864\n"
     ]
    }
   ],
   "source": [
    "score = model.evaluate(X_test, Y_test, verbose=VERBOSE)\n",
    "print(\"\\nTest score:\", score[0])\n",
    "print('Test accuracy:', score[1])"
   ]
  }
 ],
 "metadata": {
  "kernelspec": {
   "display_name": "Python 3",
   "language": "python",
   "name": "python3"
  },
  "language_info": {
   "codemirror_mode": {
    "name": "ipython",
    "version": 3
   },
   "file_extension": ".py",
   "mimetype": "text/x-python",
   "name": "python",
   "nbconvert_exporter": "python",
   "pygments_lexer": "ipython3",
   "version": "3.6.6"
  }
 },
 "nbformat": 4,
 "nbformat_minor": 2
}
