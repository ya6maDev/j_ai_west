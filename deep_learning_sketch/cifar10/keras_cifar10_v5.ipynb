{
 "cells": [
  {
   "cell_type": "code",
   "execution_count": 3,
   "metadata": {},
   "outputs": [],
   "source": [
    "from __future__ import print_function\n",
    "import numpy as np\n",
    "from keras.datasets import cifar10\n",
    "from keras.models import Sequential\n",
    "from keras.layers.core import Dense, Dropout, Activation\n",
    "from keras.layers.normalization import BatchNormalization\n",
    "from keras.optimizers import Adam\n",
    "from keras.utils import np_utils\n",
    "from keras.callbacks import EarlyStopping\n",
    "import matplotlib.pyplot as plt\n",
    "\n",
    "%matplotlib inline"
   ]
  },
  {
   "cell_type": "code",
   "execution_count": 4,
   "metadata": {},
   "outputs": [],
   "source": [
    "#シード値を固定\n",
    "np.random.seed(1671)"
   ]
  },
  {
   "cell_type": "code",
   "execution_count": 5,
   "metadata": {},
   "outputs": [],
   "source": [
    "# 定数を定義\n",
    "NB_EPOCH = 200\n",
    "BATCH_SIZE = 128\n",
    "VERBOSE = 1\n",
    "NB_CLASSES = 10\n",
    "OPTIMIZER = Adam()\n",
    "N_HIDDEN = 128\n",
    "VALIDATION_SPLIT = 0.2\n",
    "DROPOUT = 0.5"
   ]
  },
  {
   "cell_type": "code",
   "execution_count": 6,
   "metadata": {},
   "outputs": [
    {
     "name": "stdout",
     "output_type": "stream",
     "text": [
      "(50000, 32, 32, 3) (50000, 1)\n",
      "(10000, 32, 32, 3) (10000, 1)\n"
     ]
    }
   ],
   "source": [
    "# データ・セットをロードする\n",
    "(X_train, y_train), (X_test, y_test) = cifar10.load_data()\n",
    "print(X_train.shape, y_train.shape)\n",
    "print(X_test.shape, y_test.shape)"
   ]
  },
  {
   "cell_type": "code",
   "execution_count": 7,
   "metadata": {},
   "outputs": [],
   "source": [
    "RESHAPED = 32 * 32 * 3\n",
    "X_train = X_train.reshape(50000, RESHAPED)\n",
    "X_test = X_test.reshape(10000, RESHAPED)\n",
    "X_train = X_train.astype('float32')\n",
    "X_test = X_test.astype('float32')"
   ]
  },
  {
   "cell_type": "code",
   "execution_count": 8,
   "metadata": {},
   "outputs": [],
   "source": [
    "# 画素値を0-1に変換\n",
    "X_train /= 255.0\n",
    "X_test /= 255.0"
   ]
  },
  {
   "cell_type": "code",
   "execution_count": 9,
   "metadata": {},
   "outputs": [],
   "source": [
    "# クラスラベル（0-9）をone-hotエンコーディング形式に変換\n",
    "Y_train = np_utils.to_categorical(y_train, NB_CLASSES)\n",
    "Y_test = np_utils.to_categorical(y_test, NB_CLASSES)"
   ]
  },
  {
   "cell_type": "code",
   "execution_count": 10,
   "metadata": {},
   "outputs": [
    {
     "name": "stdout",
     "output_type": "stream",
     "text": [
      "_________________________________________________________________\n",
      "Layer (type)                 Output Shape              Param #   \n",
      "=================================================================\n",
      "dense_1 (Dense)              (None, 128)               393344    \n",
      "_________________________________________________________________\n",
      "batch_normalization_1 (Batch (None, 128)               512       \n",
      "_________________________________________________________________\n",
      "activation_1 (Activation)    (None, 128)               0         \n",
      "_________________________________________________________________\n",
      "dropout_1 (Dropout)          (None, 128)               0         \n",
      "_________________________________________________________________\n",
      "dense_2 (Dense)              (None, 128)               16512     \n",
      "_________________________________________________________________\n",
      "batch_normalization_2 (Batch (None, 128)               512       \n",
      "_________________________________________________________________\n",
      "activation_2 (Activation)    (None, 128)               0         \n",
      "_________________________________________________________________\n",
      "dropout_2 (Dropout)          (None, 128)               0         \n",
      "_________________________________________________________________\n",
      "dense_3 (Dense)              (None, 10)                1290      \n",
      "_________________________________________________________________\n",
      "activation_3 (Activation)    (None, 10)                0         \n",
      "=================================================================\n",
      "Total params: 412,170\n",
      "Trainable params: 411,658\n",
      "Non-trainable params: 512\n",
      "_________________________________________________________________\n"
     ]
    }
   ],
   "source": [
    "# モデルの定義\n",
    "model = Sequential()\n",
    "model.add(Dense(N_HIDDEN, input_shape=(RESHAPED,)))\n",
    "model.add(BatchNormalization())\n",
    "model.add(Activation('relu'))\n",
    "model.add(Dropout(DROPOUT))\n",
    "\n",
    "model.add(Dense(N_HIDDEN))\n",
    "model.add(BatchNormalization())\n",
    "model.add(Activation('relu'))\n",
    "model.add(Dropout(DROPOUT))\n",
    "\n",
    "model.add(Dense(NB_CLASSES))\n",
    "model.add(Activation('softmax'))\n",
    "\n",
    "model.summary()"
   ]
  },
  {
   "cell_type": "code",
   "execution_count": 11,
   "metadata": {},
   "outputs": [],
   "source": [
    "model.compile(loss='categorical_crossentropy',\n",
    "              optimizer=OPTIMIZER,\n",
    "              metrics=['accuracy'])"
   ]
  },
  {
   "cell_type": "code",
   "execution_count": 12,
   "metadata": {},
   "outputs": [],
   "source": [
    "# コールバックの設定\n",
    "earlystopping = EarlyStopping(monitor='val_loss', patience=10, verbose=1)\n",
    "callbacks = [earlystopping]"
   ]
  },
  {
   "cell_type": "code",
   "execution_count": 13,
   "metadata": {},
   "outputs": [
    {
     "name": "stdout",
     "output_type": "stream",
     "text": [
      "Train on 40000 samples, validate on 10000 samples\n",
      "Epoch 1/200\n",
      "40000/40000 [==============================] - 7s 167us/step - loss: 2.0923 - acc: 0.2638 - val_loss: 1.8503 - val_acc: 0.3303\n",
      "Epoch 2/200\n",
      "40000/40000 [==============================] - 6s 152us/step - loss: 1.8202 - acc: 0.3447 - val_loss: 1.7166 - val_acc: 0.3855\n",
      "Epoch 3/200\n",
      "40000/40000 [==============================] - 6s 142us/step - loss: 1.7417 - acc: 0.3747 - val_loss: 1.7637 - val_acc: 0.3674\n",
      "Epoch 4/200\n",
      "40000/40000 [==============================] - 6s 138us/step - loss: 1.7003 - acc: 0.3918 - val_loss: 1.7112 - val_acc: 0.4029\n",
      "Epoch 5/200\n",
      "40000/40000 [==============================] - 6s 138us/step - loss: 1.6658 - acc: 0.4018 - val_loss: 1.6671 - val_acc: 0.4161\n",
      "Epoch 6/200\n",
      "40000/40000 [==============================] - 6s 138us/step - loss: 1.6305 - acc: 0.4146 - val_loss: 1.6538 - val_acc: 0.4090\n",
      "Epoch 7/200\n",
      "40000/40000 [==============================] - 5s 137us/step - loss: 1.6136 - acc: 0.4224 - val_loss: 1.6099 - val_acc: 0.4385\n",
      "Epoch 8/200\n",
      "40000/40000 [==============================] - 6s 140us/step - loss: 1.5884 - acc: 0.4302 - val_loss: 1.6108 - val_acc: 0.4237\n",
      "Epoch 9/200\n",
      "40000/40000 [==============================] - 6s 139us/step - loss: 1.5726 - acc: 0.4340 - val_loss: 1.5526 - val_acc: 0.4516\n",
      "Epoch 10/200\n",
      "40000/40000 [==============================] - 6s 140us/step - loss: 1.5594 - acc: 0.4402 - val_loss: 1.6569 - val_acc: 0.4174\n",
      "Epoch 11/200\n",
      "40000/40000 [==============================] - 5s 136us/step - loss: 1.5436 - acc: 0.4457 - val_loss: 1.5213 - val_acc: 0.4556\n",
      "Epoch 12/200\n",
      "40000/40000 [==============================] - 6s 138us/step - loss: 1.5321 - acc: 0.4517 - val_loss: 1.5522 - val_acc: 0.4554\n",
      "Epoch 13/200\n",
      "40000/40000 [==============================] - 6s 138us/step - loss: 1.5233 - acc: 0.4536 - val_loss: 1.5738 - val_acc: 0.4299\n",
      "Epoch 14/200\n",
      "40000/40000 [==============================] - 6s 138us/step - loss: 1.5051 - acc: 0.4627 - val_loss: 1.5484 - val_acc: 0.4516\n",
      "Epoch 15/200\n",
      "40000/40000 [==============================] - 5s 137us/step - loss: 1.4998 - acc: 0.4649 - val_loss: 1.5133 - val_acc: 0.4689\n",
      "Epoch 16/200\n",
      "40000/40000 [==============================] - 6s 142us/step - loss: 1.4915 - acc: 0.4679 - val_loss: 1.5249 - val_acc: 0.4656\n",
      "Epoch 17/200\n",
      "40000/40000 [==============================] - 6s 139us/step - loss: 1.4823 - acc: 0.4676 - val_loss: 1.4879 - val_acc: 0.4820\n",
      "Epoch 18/200\n",
      "40000/40000 [==============================] - 6s 140us/step - loss: 1.4699 - acc: 0.4738 - val_loss: 1.5428 - val_acc: 0.4529\n",
      "Epoch 19/200\n",
      "40000/40000 [==============================] - 6s 141us/step - loss: 1.4602 - acc: 0.4783 - val_loss: 1.5566 - val_acc: 0.4534\n",
      "Epoch 20/200\n",
      "40000/40000 [==============================] - 6s 145us/step - loss: 1.4612 - acc: 0.4761 - val_loss: 1.5023 - val_acc: 0.4841\n",
      "Epoch 21/200\n",
      "40000/40000 [==============================] - 6s 140us/step - loss: 1.4510 - acc: 0.4812 - val_loss: 1.5345 - val_acc: 0.4522\n",
      "Epoch 22/200\n",
      "40000/40000 [==============================] - 6s 139us/step - loss: 1.4473 - acc: 0.4819 - val_loss: 1.5872 - val_acc: 0.4325\n",
      "Epoch 23/200\n",
      "40000/40000 [==============================] - 6s 139us/step - loss: 1.4392 - acc: 0.4890 - val_loss: 1.5600 - val_acc: 0.4461\n",
      "Epoch 24/200\n",
      "40000/40000 [==============================] - 6s 138us/step - loss: 1.4375 - acc: 0.4877 - val_loss: 1.5216 - val_acc: 0.4509\n",
      "Epoch 25/200\n",
      "40000/40000 [==============================] - 6s 138us/step - loss: 1.4288 - acc: 0.4887 - val_loss: 1.4941 - val_acc: 0.4713\n",
      "Epoch 26/200\n",
      "40000/40000 [==============================] - 6s 138us/step - loss: 1.4188 - acc: 0.4959 - val_loss: 1.4922 - val_acc: 0.4612\n",
      "Epoch 27/200\n",
      "40000/40000 [==============================] - 6s 144us/step - loss: 1.4152 - acc: 0.4937 - val_loss: 1.5120 - val_acc: 0.4670\n",
      "Epoch 00027: early stopping\n"
     ]
    }
   ],
   "source": [
    "hist = model.fit(X_train, Y_train,\n",
    "          batch_size=BATCH_SIZE, \n",
    "          epochs=NB_EPOCH,\n",
    "          verbose=VERBOSE, \n",
    "          callbacks=callbacks,\n",
    "          validation_split=VALIDATION_SPLIT)"
   ]
  },
  {
   "cell_type": "code",
   "execution_count": 14,
   "metadata": {},
   "outputs": [
    {
     "data": {
      "image/png": "[encoded data removed]",
      "text/plain": [
       "<Figure size 432x288 with 1 Axes>"
      ]
     },
     "metadata": {},
     "output_type": "display_data"
    }
   ],
   "source": [
    "'''\n",
    "学習の進み具合を可視化\n",
    "'''\n",
    "acc = hist.history['val_acc']\n",
    "loss = hist.history['val_loss']\n",
    "\n",
    "plt.rc('font', family='serif')\n",
    "fig = plt.figure()\n",
    "plt.plot(range(len(loss)), loss,\n",
    "         label='loss', color='black')\n",
    "plt.xlabel('epochs')\n",
    "plt.show()"
   ]
  },
  {
   "cell_type": "code",
   "execution_count": 15,
   "metadata": {},
   "outputs": [
    {
     "name": "stdout",
     "output_type": "stream",
     "text": [
      "10000/10000 [==============================] - 1s 97us/step\n",
      "\n",
      "Test score: 1.503051810646057\n",
      "Test accuracy: 0.4708\n"
     ]
    }
   ],
   "source": [
    "score = model.evaluate(X_test, Y_test, verbose=VERBOSE)\n",
    "print(\"\\nTest score:\", score[0])\n",
    "print('Test accuracy:', score[1])"
   ]
  },
  {
   "cell_type": "code",
   "execution_count": null,
   "metadata": {},
   "outputs": [],
   "source": []
  }
 ],
 "metadata": {
  "kernelspec": {
   "display_name": "Python 3",
   "language": "python",
   "name": "python3"
  },
  "language_info": {
   "codemirror_mode": {
    "name": "ipython",
    "version": 3
   },
   "file_extension": ".py",
   "mimetype": "text/x-python",
   "name": "python",
   "nbconvert_exporter": "python",
   "pygments_lexer": "ipython3",
   "version": "3.6.6"
  }
 },
 "nbformat": 4,
 "nbformat_minor": 2
}
