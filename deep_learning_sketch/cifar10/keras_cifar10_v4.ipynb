{
 "cells": [
  {
   "cell_type": "code",
   "execution_count": 15,
   "metadata": {},
   "outputs": [],
   "source": [
    "from __future__ import print_function\n",
    "import numpy as np\n",
    "from keras.datasets import cifar10\n",
    "from keras.models import Sequential\n",
    "from keras.layers.core import Dense, Dropout, Activation\n",
    "from keras.optimizers import Adam\n",
    "from keras.utils import np_utils\n",
    "from keras.callbacks import EarlyStopping\n",
    "import matplotlib.pyplot as plt\n",
    "\n",
    "%matplotlib inline"
   ]
  },
  {
   "cell_type": "code",
   "execution_count": 16,
   "metadata": {},
   "outputs": [],
   "source": [
    "#シード値を固定\n",
    "np.random.seed(1671)"
   ]
  },
  {
   "cell_type": "code",
   "execution_count": 17,
   "metadata": {},
   "outputs": [],
   "source": [
    "# 定数を定義\n",
    "NB_EPOCH = 200\n",
    "BATCH_SIZE = 128\n",
    "VERBOSE = 1\n",
    "NB_CLASSES = 10\n",
    "OPTIMIZER = Adam()\n",
    "N_HIDDEN = 128\n",
    "VALIDATION_SPLIT = 0.2\n",
    "DROPOUT = 0.5"
   ]
  },
  {
   "cell_type": "code",
   "execution_count": 18,
   "metadata": {},
   "outputs": [
    {
     "name": "stdout",
     "output_type": "stream",
     "text": [
      "(50000, 32, 32, 3) (50000, 1)\n",
      "(10000, 32, 32, 3) (10000, 1)\n"
     ]
    }
   ],
   "source": [
    "# データ・セットをロードする\n",
    "(X_train, y_train), (X_test, y_test) = cifar10.load_data()\n",
    "print(X_train.shape, y_train.shape)\n",
    "print(X_test.shape, y_test.shape)"
   ]
  },
  {
   "cell_type": "code",
   "execution_count": 19,
   "metadata": {},
   "outputs": [],
   "source": [
    "RESHAPED = 32 * 32 * 3\n",
    "X_train = X_train.reshape(50000, RESHAPED)\n",
    "X_test = X_test.reshape(10000, RESHAPED)\n",
    "X_train = X_train.astype('float32')\n",
    "X_test = X_test.astype('float32')"
   ]
  },
  {
   "cell_type": "code",
   "execution_count": 20,
   "metadata": {},
   "outputs": [],
   "source": [
    "# 画素値を0-1に変換\n",
    "X_train /= 255.0\n",
    "X_test /= 255.0"
   ]
  },
  {
   "cell_type": "code",
   "execution_count": 21,
   "metadata": {},
   "outputs": [],
   "source": [
    "# クラスラベル（0-9）をone-hotエンコーディング形式に変換\n",
    "Y_train = np_utils.to_categorical(y_train, NB_CLASSES)\n",
    "Y_test = np_utils.to_categorical(y_test, NB_CLASSES)"
   ]
  },
  {
   "cell_type": "code",
   "execution_count": 22,
   "metadata": {},
   "outputs": [
    {
     "name": "stdout",
     "output_type": "stream",
     "text": [
      "_________________________________________________________________\n",
      "Layer (type)                 Output Shape              Param #   \n",
      "=================================================================\n",
      "dense_4 (Dense)              (None, 128)               393344    \n",
      "_________________________________________________________________\n",
      "activation_4 (Activation)    (None, 128)               0         \n",
      "_________________________________________________________________\n",
      "dropout_3 (Dropout)          (None, 128)               0         \n",
      "_________________________________________________________________\n",
      "dense_5 (Dense)              (None, 128)               16512     \n",
      "_________________________________________________________________\n",
      "activation_5 (Activation)    (None, 128)               0         \n",
      "_________________________________________________________________\n",
      "dropout_4 (Dropout)          (None, 128)               0         \n",
      "_________________________________________________________________\n",
      "dense_6 (Dense)              (None, 10)                1290      \n",
      "_________________________________________________________________\n",
      "activation_6 (Activation)    (None, 10)                0         \n",
      "=================================================================\n",
      "Total params: 411,146\n",
      "Trainable params: 411,146\n",
      "Non-trainable params: 0\n",
      "_________________________________________________________________\n"
     ]
    }
   ],
   "source": [
    "# モデルの定義\n",
    "model = Sequential()\n",
    "model.add(Dense(N_HIDDEN, input_shape=(RESHAPED,)))\n",
    "model.add(Activation('relu'))\n",
    "model.add(Dropout(DROPOUT))\n",
    "\n",
    "model.add(Dense(N_HIDDEN))\n",
    "model.add(Activation('relu'))\n",
    "model.add(Dropout(DROPOUT))\n",
    "\n",
    "model.add(Dense(NB_CLASSES))\n",
    "model.add(Activation('softmax'))\n",
    "\n",
    "model.summary()"
   ]
  },
  {
   "cell_type": "code",
   "execution_count": 23,
   "metadata": {},
   "outputs": [],
   "source": [
    "model.compile(loss='categorical_crossentropy',\n",
    "              optimizer=OPTIMIZER,\n",
    "              metrics=['accuracy'])"
   ]
  },
  {
   "cell_type": "code",
   "execution_count": 30,
   "metadata": {},
   "outputs": [],
   "source": [
    "# コールバックの設定\n",
    "earlystopping = EarlyStopping(monitor='val_loss', patience=10, verbose=1)\n",
    "callbacks = [earlystopping]"
   ]
  },
  {
   "cell_type": "code",
   "execution_count": 31,
   "metadata": {},
   "outputs": [
    {
     "name": "stdout",
     "output_type": "stream",
     "text": [
      "Train on 40000 samples, validate on 10000 samples\n",
      "Epoch 1/200\n",
      "40000/40000 [==============================] - 5s 126us/step - loss: 2.1080 - acc: 0.1873 - val_loss: 2.0891 - val_acc: 0.2076\n",
      "Epoch 2/200\n",
      "40000/40000 [==============================] - 5s 125us/step - loss: 2.1032 - acc: 0.1933 - val_loss: 2.0941 - val_acc: 0.1995\n",
      "Epoch 3/200\n",
      "40000/40000 [==============================] - 5s 124us/step - loss: 2.1055 - acc: 0.1910 - val_loss: 2.1211 - val_acc: 0.2031\n",
      "Epoch 4/200\n",
      "40000/40000 [==============================] - 5s 126us/step - loss: 2.0983 - acc: 0.1905 - val_loss: 2.0860 - val_acc: 0.2162\n",
      "Epoch 5/200\n",
      "40000/40000 [==============================] - 5s 125us/step - loss: 2.0974 - acc: 0.1938 - val_loss: 2.1098 - val_acc: 0.2112\n",
      "Epoch 6/200\n",
      "40000/40000 [==============================] - 5s 125us/step - loss: 2.0964 - acc: 0.1963 - val_loss: 2.1097 - val_acc: 0.2109\n",
      "Epoch 7/200\n",
      "40000/40000 [==============================] - 5s 127us/step - loss: 2.0923 - acc: 0.1980 - val_loss: 2.0604 - val_acc: 0.2285\n",
      "Epoch 8/200\n",
      "40000/40000 [==============================] - 5s 127us/step - loss: 2.0940 - acc: 0.1972 - val_loss: 2.0742 - val_acc: 0.2189\n",
      "Epoch 9/200\n",
      "40000/40000 [==============================] - 5s 124us/step - loss: 2.0888 - acc: 0.2006 - val_loss: 2.1087 - val_acc: 0.2215\n",
      "Epoch 10/200\n",
      "40000/40000 [==============================] - 5s 126us/step - loss: 2.0805 - acc: 0.2032 - val_loss: 2.0830 - val_acc: 0.2016\n",
      "Epoch 11/200\n",
      "40000/40000 [==============================] - 5s 126us/step - loss: 2.0663 - acc: 0.2075 - val_loss: 2.0938 - val_acc: 0.2088\n",
      "Epoch 12/200\n",
      "40000/40000 [==============================] - 5s 127us/step - loss: 2.0651 - acc: 0.2081 - val_loss: 2.0768 - val_acc: 0.2351\n",
      "Epoch 13/200\n",
      "40000/40000 [==============================] - 5s 125us/step - loss: 2.0550 - acc: 0.2091 - val_loss: 2.0916 - val_acc: 0.2176\n",
      "Epoch 14/200\n",
      "40000/40000 [==============================] - 5s 125us/step - loss: 2.0616 - acc: 0.2090 - val_loss: 2.1151 - val_acc: 0.2044\n",
      "Epoch 15/200\n",
      "40000/40000 [==============================] - 5s 128us/step - loss: 2.0575 - acc: 0.2112 - val_loss: 2.0731 - val_acc: 0.2085\n",
      "Epoch 16/200\n",
      "40000/40000 [==============================] - 5s 126us/step - loss: 2.0585 - acc: 0.2096 - val_loss: 2.0476 - val_acc: 0.2336\n",
      "Epoch 17/200\n",
      "40000/40000 [==============================] - 5s 127us/step - loss: 2.0546 - acc: 0.2123 - val_loss: 2.1128 - val_acc: 0.2026\n",
      "Epoch 18/200\n",
      "40000/40000 [==============================] - 5s 125us/step - loss: 2.0557 - acc: 0.2107 - val_loss: 2.0674 - val_acc: 0.2192\n",
      "Epoch 19/200\n",
      "40000/40000 [==============================] - 5s 128us/step - loss: 2.0536 - acc: 0.2100 - val_loss: 2.0997 - val_acc: 0.2098\n",
      "Epoch 20/200\n",
      "40000/40000 [==============================] - 5s 125us/step - loss: 2.0543 - acc: 0.2135 - val_loss: 2.1007 - val_acc: 0.2075\n",
      "Epoch 21/200\n",
      "40000/40000 [==============================] - 5s 132us/step - loss: 2.0511 - acc: 0.2116 - val_loss: 2.0763 - val_acc: 0.2105\n",
      "Epoch 22/200\n",
      "40000/40000 [==============================] - 5s 130us/step - loss: 2.0527 - acc: 0.2157 - val_loss: 2.0743 - val_acc: 0.2184\n",
      "Epoch 23/200\n",
      "40000/40000 [==============================] - 5s 127us/step - loss: 2.0501 - acc: 0.2121 - val_loss: 2.0739 - val_acc: 0.2226\n",
      "Epoch 24/200\n",
      "40000/40000 [==============================] - 5s 126us/step - loss: 2.0511 - acc: 0.2126 - val_loss: 2.0475 - val_acc: 0.2260\n",
      "Epoch 25/200\n",
      "40000/40000 [==============================] - 5s 128us/step - loss: 2.0505 - acc: 0.2113 - val_loss: 2.0833 - val_acc: 0.2139\n",
      "Epoch 26/200\n",
      "40000/40000 [==============================] - 5s 128us/step - loss: 2.0498 - acc: 0.2142 - val_loss: 2.0630 - val_acc: 0.2169\n",
      "Epoch 27/200\n",
      "40000/40000 [==============================] - 5s 128us/step - loss: 2.0501 - acc: 0.2105 - val_loss: 2.0692 - val_acc: 0.2250\n",
      "Epoch 28/200\n",
      "40000/40000 [==============================] - 5s 127us/step - loss: 2.0469 - acc: 0.2139 - val_loss: 2.0745 - val_acc: 0.2043\n",
      "Epoch 29/200\n",
      "40000/40000 [==============================] - 5s 127us/step - loss: 2.0446 - acc: 0.2159 - val_loss: 2.0759 - val_acc: 0.2049\n",
      "Epoch 30/200\n",
      "40000/40000 [==============================] - 5s 129us/step - loss: 2.0507 - acc: 0.2138 - val_loss: 2.1020 - val_acc: 0.2122\n",
      "Epoch 31/200\n",
      "40000/40000 [==============================] - 5s 130us/step - loss: 2.0538 - acc: 0.2105 - val_loss: 2.0943 - val_acc: 0.1800\n",
      "Epoch 32/200\n",
      "40000/40000 [==============================] - 5s 128us/step - loss: 2.0522 - acc: 0.2105 - val_loss: 2.0429 - val_acc: 0.2256\n",
      "Epoch 33/200\n",
      "40000/40000 [==============================] - 5s 128us/step - loss: 2.0486 - acc: 0.2163 - val_loss: 2.0779 - val_acc: 0.2246\n",
      "Epoch 34/200\n",
      "40000/40000 [==============================] - 5s 128us/step - loss: 2.0464 - acc: 0.2149 - val_loss: 2.0692 - val_acc: 0.2190\n",
      "Epoch 35/200\n",
      "40000/40000 [==============================] - 5s 137us/step - loss: 2.0493 - acc: 0.2153 - val_loss: 2.1132 - val_acc: 0.1855\n",
      "Epoch 36/200\n",
      "40000/40000 [==============================] - 6s 142us/step - loss: 2.0586 - acc: 0.2098 - val_loss: 2.0951 - val_acc: 0.1929\n",
      "Epoch 37/200\n",
      "40000/40000 [==============================] - 6s 142us/step - loss: 2.0496 - acc: 0.2131 - val_loss: 2.1376 - val_acc: 0.1890\n",
      "Epoch 38/200\n",
      "40000/40000 [==============================] - 6s 144us/step - loss: 2.0476 - acc: 0.2147 - val_loss: 2.1024 - val_acc: 0.1994\n",
      "Epoch 39/200\n",
      "40000/40000 [==============================] - 7s 168us/step - loss: 2.0455 - acc: 0.2155 - val_loss: 2.0840 - val_acc: 0.2021\n",
      "Epoch 40/200\n",
      "40000/40000 [==============================] - 6s 158us/step - loss: 2.0460 - acc: 0.2124 - val_loss: 2.0956 - val_acc: 0.1899\n",
      "Epoch 41/200\n",
      "40000/40000 [==============================] - 7s 171us/step - loss: 2.0447 - acc: 0.2137 - val_loss: 2.0842 - val_acc: 0.2051\n",
      "Epoch 42/200\n",
      "40000/40000 [==============================] - 7s 176us/step - loss: 2.0445 - acc: 0.2175 - val_loss: 2.0812 - val_acc: 0.2035\n",
      "Epoch 00042: early stopping\n"
     ]
    }
   ],
   "source": [
    "hist = model.fit(X_train, Y_train,\n",
    "          batch_size=BATCH_SIZE, \n",
    "          epochs=NB_EPOCH,\n",
    "          verbose=VERBOSE, \n",
    "          callbacks=callbacks,\n",
    "          validation_split=VALIDATION_SPLIT)"
   ]
  },
  {
   "cell_type": "code",
   "execution_count": 32,
   "metadata": {},
   "outputs": [
    {
     "data": {
      "image/png": "[encoded data removed]",
      "text/plain": [
       "<Figure size 432x288 with 1 Axes>"
      ]
     },
     "metadata": {},
     "output_type": "display_data"
    }
   ],
   "source": [
    "'''\n",
    "学習の進み具合を可視化\n",
    "'''\n",
    "acc = hist.history['val_acc']\n",
    "loss = hist.history['val_loss']\n",
    "\n",
    "plt.rc('font', family='serif')\n",
    "fig = plt.figure()\n",
    "plt.plot(range(len(loss)), loss,\n",
    "         label='loss', color='black')\n",
    "plt.xlabel('epochs')\n",
    "plt.show()"
   ]
  },
  {
   "cell_type": "code",
   "execution_count": 33,
   "metadata": {},
   "outputs": [
    {
     "name": "stdout",
     "output_type": "stream",
     "text": [
      "10000/10000 [==============================] - 1s 102us/step\n",
      "\n",
      "Test score: 2.0728701145172117\n",
      "Test accuracy: 0.2151\n"
     ]
    }
   ],
   "source": [
    "score = model.evaluate(X_test, Y_test, verbose=VERBOSE)\n",
    "print(\"\\nTest score:\", score[0])\n",
    "print('Test accuracy:', score[1])"
   ]
  },
  {
   "cell_type": "code",
   "execution_count": null,
   "metadata": {},
   "outputs": [],
   "source": []
  }
 ],
 "metadata": {
  "kernelspec": {
   "display_name": "Python 3",
   "language": "python",
   "name": "python3"
  },
  "language_info": {
   "codemirror_mode": {
    "name": "ipython",
    "version": 3
   },
   "file_extension": ".py",
   "mimetype": "text/x-python",
   "name": "python",
   "nbconvert_exporter": "python",
   "pygments_lexer": "ipython3",
   "version": "3.6.6"
  }
 },
 "nbformat": 4,
 "nbformat_minor": 2
}
