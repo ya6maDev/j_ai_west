{
 "cells": [
  {
   "cell_type": "code",
   "execution_count": 1,
   "metadata": {},
   "outputs": [
    {
     "name": "stderr",
     "output_type": "stream",
     "text": [
      "C:\\Users\\y5a1m\\Anaconda3\\envs\\tf180\\lib\\site-packages\\h5py\\__init__.py:36: FutureWarning: Conversion of the second argument of issubdtype from `float` to `np.floating` is deprecated. In future, it will be treated as `np.float64 == np.dtype(float).type`.\n",
      "  from ._conv import register_converters as _register_converters\n",
      "Using TensorFlow backend.\n"
     ]
    }
   ],
   "source": [
    "from __future__ import print_function\n",
    "import numpy as np\n",
    "from keras.datasets import cifar10\n",
    "from keras.models import Sequential\n",
    "from keras.layers.core import Dense, Activation\n",
    "from keras.optimizers import SGD\n",
    "from keras.utils import np_utils\n",
    "from keras.callbacks import EarlyStopping\n",
    "import matplotlib.pyplot as plt\n",
    "\n",
    "%matplotlib inline"
   ]
  },
  {
   "cell_type": "code",
   "execution_count": 2,
   "metadata": {},
   "outputs": [],
   "source": [
    "#シード値を固定\n",
    "np.random.seed(1671)"
   ]
  },
  {
   "cell_type": "code",
   "execution_count": 3,
   "metadata": {},
   "outputs": [],
   "source": [
    "# 定数を定義\n",
    "NB_EPOCH = 200\n",
    "BATCH_SIZE = 128\n",
    "VERBOSE = 1\n",
    "NB_CLASSES = 10\n",
    "OPTIMIZER = SGD()\n",
    "N_HIDDEN = 128\n",
    "VALIDATION_SPLIT = 0.2"
   ]
  },
  {
   "cell_type": "code",
   "execution_count": 4,
   "metadata": {},
   "outputs": [
    {
     "name": "stdout",
     "output_type": "stream",
     "text": [
      "(50000, 32, 32, 3) (50000, 1)\n",
      "(10000, 32, 32, 3) (10000, 1)\n"
     ]
    }
   ],
   "source": [
    "# データ・セットをロードする\n",
    "(X_train, y_train), (X_test, y_test) = cifar10.load_data()\n",
    "print(X_train.shape, y_train.shape)\n",
    "print(X_test.shape, y_test.shape)"
   ]
  },
  {
   "cell_type": "code",
   "execution_count": 5,
   "metadata": {},
   "outputs": [],
   "source": [
    "RESHAPED = 32 * 32 * 3\n",
    "X_train = X_train.reshape(50000, RESHAPED)\n",
    "X_test = X_test.reshape(10000, RESHAPED)\n",
    "X_train = X_train.astype('float32')\n",
    "X_test = X_test.astype('float32')"
   ]
  },
  {
   "cell_type": "code",
   "execution_count": 6,
   "metadata": {},
   "outputs": [],
   "source": [
    "# 画素値を0-1に変換\n",
    "X_train /= 255.0\n",
    "X_test /= 255.0"
   ]
  },
  {
   "cell_type": "code",
   "execution_count": 7,
   "metadata": {},
   "outputs": [],
   "source": [
    "# クラスラベル（0-9）をone-hotエンコーディング形式に変換\n",
    "Y_train = np_utils.to_categorical(y_train, NB_CLASSES)\n",
    "Y_test = np_utils.to_categorical(y_test, NB_CLASSES)"
   ]
  },
  {
   "cell_type": "code",
   "execution_count": 8,
   "metadata": {},
   "outputs": [
    {
     "name": "stdout",
     "output_type": "stream",
     "text": [
      "_________________________________________________________________\n",
      "Layer (type)                 Output Shape              Param #   \n",
      "=================================================================\n",
      "dense_1 (Dense)              (None, 10)                30730     \n",
      "_________________________________________________________________\n",
      "activation_1 (Activation)    (None, 10)                0         \n",
      "=================================================================\n",
      "Total params: 30,730\n",
      "Trainable params: 30,730\n",
      "Non-trainable params: 0\n",
      "_________________________________________________________________\n"
     ]
    }
   ],
   "source": [
    "# モデルの定義\n",
    "model = Sequential()\n",
    "model.add(Dense(NB_CLASSES, input_shape=(RESHAPED,)))\n",
    "model.add(Activation('softmax'))\n",
    "\n",
    "model.summary()"
   ]
  },
  {
   "cell_type": "code",
   "execution_count": 9,
   "metadata": {},
   "outputs": [],
   "source": [
    "model.compile(loss='categorical_crossentropy',\n",
    "              optimizer=OPTIMIZER,\n",
    "              metrics=['accuracy'])"
   ]
  },
  {
   "cell_type": "code",
   "execution_count": 10,
   "metadata": {},
   "outputs": [],
   "source": [
    "# コールバックの設定\n",
    "earlystopping = EarlyStopping(monitor='val_loss', patience=10, verbose=1)\n",
    "callbacks = [earlystopping]"
   ]
  },
  {
   "cell_type": "code",
   "execution_count": 13,
   "metadata": {},
   "outputs": [
    {
     "name": "stdout",
     "output_type": "stream",
     "text": [
      "Train on 40000 samples, validate on 10000 samples\n",
      "Epoch 1/200\n",
      "40000/40000 [==============================] - 2s 43us/step - loss: 1.6972 - acc: 0.4195 - val_loss: 1.7588 - val_acc: 0.3930\n",
      "Epoch 2/200\n",
      "40000/40000 [==============================] - 2s 41us/step - loss: 1.6958 - acc: 0.4190 - val_loss: 1.7675 - val_acc: 0.3925\n",
      "Epoch 3/200\n",
      "40000/40000 [==============================] - 2s 42us/step - loss: 1.6926 - acc: 0.4186 - val_loss: 1.8200 - val_acc: 0.3706\n",
      "Epoch 4/200\n",
      "40000/40000 [==============================] - 2s 41us/step - loss: 1.6923 - acc: 0.4237 - val_loss: 1.7680 - val_acc: 0.3895\n",
      "Epoch 5/200\n",
      "40000/40000 [==============================] - 2s 43us/step - loss: 1.6913 - acc: 0.4217 - val_loss: 1.7754 - val_acc: 0.3852\n",
      "Epoch 6/200\n",
      "40000/40000 [==============================] - 2s 48us/step - loss: 1.6888 - acc: 0.4227 - val_loss: 1.7965 - val_acc: 0.3771\n",
      "Epoch 7/200\n",
      "40000/40000 [==============================] - 2s 46us/step - loss: 1.6878 - acc: 0.4221 - val_loss: 1.7614 - val_acc: 0.3880\n",
      "Epoch 8/200\n",
      "40000/40000 [==============================] - 2s 40us/step - loss: 1.6860 - acc: 0.4241 - val_loss: 1.7577 - val_acc: 0.3951\n",
      "Epoch 9/200\n",
      "40000/40000 [==============================] - 1s 37us/step - loss: 1.6855 - acc: 0.4230 - val_loss: 1.7506 - val_acc: 0.3951\n",
      "Epoch 10/200\n",
      "40000/40000 [==============================] - 2s 39us/step - loss: 1.6858 - acc: 0.4244 - val_loss: 1.7855 - val_acc: 0.3775\n",
      "Epoch 11/200\n",
      "40000/40000 [==============================] - ETA: 0s - loss: 1.6827 - acc: 0.424 - 2s 38us/step - loss: 1.6829 - acc: 0.4250 - val_loss: 1.7919 - val_acc: 0.3741\n",
      "Epoch 12/200\n",
      "40000/40000 [==============================] - 2s 41us/step - loss: 1.6824 - acc: 0.4248 - val_loss: 1.7553 - val_acc: 0.3880\n",
      "Epoch 13/200\n",
      "40000/40000 [==============================] - 2s 40us/step - loss: 1.6810 - acc: 0.4244 - val_loss: 1.7593 - val_acc: 0.3887\n",
      "Epoch 14/200\n",
      "40000/40000 [==============================] - 2s 45us/step - loss: 1.6793 - acc: 0.4277 - val_loss: 1.7478 - val_acc: 0.3957\n",
      "Epoch 15/200\n",
      "40000/40000 [==============================] - 2s 42us/step - loss: 1.6784 - acc: 0.4282 - val_loss: 1.7759 - val_acc: 0.3884\n",
      "Epoch 16/200\n",
      "40000/40000 [==============================] - 2s 50us/step - loss: 1.6794 - acc: 0.4263 - val_loss: 1.7672 - val_acc: 0.3868\n",
      "Epoch 17/200\n",
      "40000/40000 [==============================] - 2s 48us/step - loss: 1.6779 - acc: 0.4262 - val_loss: 1.7643 - val_acc: 0.3853\n",
      "Epoch 18/200\n",
      "40000/40000 [==============================] - 2s 44us/step - loss: 1.6759 - acc: 0.4292 - val_loss: 1.7650 - val_acc: 0.3909\n",
      "Epoch 19/200\n",
      "40000/40000 [==============================] - 2s 45us/step - loss: 1.6752 - acc: 0.4289 - val_loss: 1.7708 - val_acc: 0.3927\n",
      "Epoch 20/200\n",
      "40000/40000 [==============================] - 2s 46us/step - loss: 1.6736 - acc: 0.4284 - val_loss: 1.7771 - val_acc: 0.3888\n",
      "Epoch 21/200\n",
      "40000/40000 [==============================] - 2s 45us/step - loss: 1.6737 - acc: 0.4278 - val_loss: 1.7661 - val_acc: 0.3858\n",
      "Epoch 22/200\n",
      "40000/40000 [==============================] - 2s 45us/step - loss: 1.6729 - acc: 0.4291 - val_loss: 1.7672 - val_acc: 0.3973\n",
      "Epoch 23/200\n",
      "40000/40000 [==============================] - 2s 43us/step - loss: 1.6726 - acc: 0.4290 - val_loss: 1.8001 - val_acc: 0.3704\n",
      "Epoch 24/200\n",
      "40000/40000 [==============================] - 2s 43us/step - loss: 1.6702 - acc: 0.4302 - val_loss: 1.7575 - val_acc: 0.3973\n",
      "Epoch 00024: early stopping\n"
     ]
    }
   ],
   "source": [
    "hist = model.fit(X_train, Y_train,\n",
    "          batch_size=BATCH_SIZE, \n",
    "          epochs=NB_EPOCH,\n",
    "          verbose=VERBOSE, \n",
    "          callbacks=callbacks,\n",
    "          validation_split=VALIDATION_SPLIT)"
   ]
  },
  {
   "cell_type": "code",
   "execution_count": 14,
   "metadata": {},
   "outputs": [
    {
     "data": {
      "image/png": "[encoded data removed]",
      "text/plain": [
       "<Figure size 432x288 with 1 Axes>"
      ]
     },
     "metadata": {},
     "output_type": "display_data"
    }
   ],
   "source": [
    "'''\n",
    "学習の進み具合を可視化\n",
    "'''\n",
    "acc = hist.history['val_acc']\n",
    "loss = hist.history['val_loss']\n",
    "\n",
    "plt.rc('font', family='serif')\n",
    "fig = plt.figure()\n",
    "plt.plot(range(len(loss)), loss,\n",
    "         label='loss', color='black')\n",
    "plt.xlabel('epochs')\n",
    "plt.show()"
   ]
  },
  {
   "cell_type": "code",
   "execution_count": 15,
   "metadata": {},
   "outputs": [
    {
     "name": "stdout",
     "output_type": "stream",
     "text": [
      "10000/10000 [==============================] - 0s 38us/step\n",
      "\n",
      "Test score: 1.7360110937118531\n",
      "Test accuracy: 0.3977\n"
     ]
    }
   ],
   "source": [
    "score = model.evaluate(X_test, Y_test, verbose=VERBOSE)\n",
    "print(\"\\nTest score:\", score[0])\n",
    "print('Test accuracy:', score[1])"
   ]
  }
 ],
 "metadata": {
  "kernelspec": {
   "display_name": "Python 3",
   "language": "python",
   "name": "python3"
  },
  "language_info": {
   "codemirror_mode": {
    "name": "ipython",
    "version": 3
   },
   "file_extension": ".py",
   "mimetype": "text/x-python",
   "name": "python",
   "nbconvert_exporter": "python",
   "pygments_lexer": "ipython3",
   "version": "3.6.6"
  }
 },
 "nbformat": 4,
 "nbformat_minor": 2
}
