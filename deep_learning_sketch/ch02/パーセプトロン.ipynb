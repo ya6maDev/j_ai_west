{
 "cells": [
  {
   "cell_type": "markdown",
   "metadata": {},
   "source": [
    "## パーセプトロン\n",
    "\n",
    "\n",
    "* 複数の信号を入力として受け取り、一つの信号を出力する。  \n",
    "* パーセプトロンの出力結果は「\"0\" or \"1\"」の2値となる。  \n",
    "\n",
    "* パーセプトロンはニューラルネットワークの起源となるアルゴリズムである。  \n",
    "* パーセプトロンを学ぶことはニューラルネットワークや、ディープラーニングへと進む上で重要な考え方を学ぶことが出来る。\n",
    "\n",
    "<img src=\"./img/perceptron.png\" title=\"パーセプトロン\" width=\"500\" height=\"500\" />\n",
    "\n",
    "### 要点\n",
    "* パーセプトロンは入出力を備えたアルゴリズムである。ある入力を与えたら、決まった値が出力される。\n",
    "* パーセプトロンでは「重み」と「バイアス」をパラメータとして設定する。\n",
    "* パーセプトロンを用いれば、ANDやORゲートなどの論理回路を表現出来る。\n",
    "* XORゲートは単層のパーセプトロンでは表現出来ないので、2層のパーセプトロンを用いてXORゲートを表現する。\n",
    "* 単層のパーセプトロンでは線形領域しか表現出来ないのに対して、多層パーセプトロンは非線形領域を表現出来る。"
   ]
  },
  {
   "cell_type": "code",
   "execution_count": 24,
   "metadata": {},
   "outputs": [],
   "source": [
    "import os\n",
    "import os.path\n",
    "import numpy as np"
   ]
  },
  {
   "cell_type": "markdown",
   "metadata": {},
   "source": [
    "## ANDゲートの真理値表\n",
    "\n",
    "x1  | x2 | y\n",
    "--- |--- |---\n",
    "0   | 0  | 0\n",
    "1   | 0  | 0\n",
    "0   | 1  | 0\n",
    "1   | 1  | 1"
   ]
  },
  {
   "cell_type": "code",
   "execution_count": 26,
   "metadata": {},
   "outputs": [],
   "source": [
    "\"\"\"\n",
    "ANDゲート\n",
    "\"\"\"\n",
    "def AND(x1, x2):\n",
    "    x = np.array([x1, x2])\n",
    "    w = np.array([0.5, 0.5])\n",
    "    b = -0.7\n",
    "    tmp = np.sum(w * x) + b\n",
    "    \n",
    "    if tmp <= 0:\n",
    "        return 0\n",
    "    else:\n",
    "        return 1"
   ]
  },
  {
   "cell_type": "code",
   "execution_count": 27,
   "metadata": {},
   "outputs": [
    {
     "name": "stdout",
     "output_type": "stream",
     "text": [
      "0\n",
      "0\n",
      "0\n",
      "1\n"
     ]
    }
   ],
   "source": [
    "print(AND(0, 0))\n",
    "print(AND(1, 0))\n",
    "print(AND(0, 1))\n",
    "print(AND(1, 1))"
   ]
  },
  {
   "cell_type": "markdown",
   "metadata": {},
   "source": [
    "## NANDゲートの真理値表\n",
    "\n",
    "x1  | x2 | y\n",
    "--- |--- |---\n",
    "0   | 0  | 1\n",
    "1   | 0  | 1\n",
    "0   | 1  | 1\n",
    "1   | 1  | 0"
   ]
  },
  {
   "cell_type": "code",
   "execution_count": 16,
   "metadata": {},
   "outputs": [],
   "source": [
    "\"\"\"\n",
    "NANDゲート\n",
    "\"\"\"\n",
    "def NAND(x1, x2):\n",
    "    x = np.array([x1, x2])\n",
    "    # 重みをマイナス値にする\n",
    "    w = np.array([-0.5, -0.5])\n",
    "    b = 0.7\n",
    "    tmp = np.sum(w * x) + b\n",
    "    \n",
    "    if tmp <= 0:\n",
    "        return 0\n",
    "    else:\n",
    "        return 1"
   ]
  },
  {
   "cell_type": "code",
   "execution_count": 17,
   "metadata": {},
   "outputs": [
    {
     "name": "stdout",
     "output_type": "stream",
     "text": [
      "1\n",
      "1\n",
      "1\n",
      "0\n"
     ]
    }
   ],
   "source": [
    "print(NAND(0, 0))\n",
    "print(NAND(1, 0))\n",
    "print(NAND(0, 1))\n",
    "print(NAND(1, 1))"
   ]
  },
  {
   "cell_type": "markdown",
   "metadata": {},
   "source": [
    "## ORゲートの真理値表\n",
    "\n",
    "x1  | x2 | y\n",
    "--- |--- |---\n",
    "0   | 0  | 0\n",
    "1   | 0  | 1\n",
    "0   | 1  | 1\n",
    "1   | 1  | 1"
   ]
  },
  {
   "cell_type": "code",
   "execution_count": 28,
   "metadata": {},
   "outputs": [],
   "source": [
    "\"\"\"\n",
    "ORゲート\n",
    "\"\"\"\n",
    "def OR(x1, x2):\n",
    "    x = np.array([x1, x2])\n",
    "    w = np.array([0.5, 0.5])\n",
    "    b = -0.2\n",
    "    tmp = np.sum(w * x) + b\n",
    "    \n",
    "    if tmp <= 0:\n",
    "        return 0\n",
    "    else:\n",
    "        return 1"
   ]
  },
  {
   "cell_type": "code",
   "execution_count": 29,
   "metadata": {},
   "outputs": [
    {
     "name": "stdout",
     "output_type": "stream",
     "text": [
      "0\n",
      "1\n",
      "1\n",
      "1\n"
     ]
    }
   ],
   "source": [
    "print(OR(0, 0))\n",
    "print(OR(1, 0))\n",
    "print(OR(0, 1))\n",
    "print(OR(1, 1))"
   ]
  },
  {
   "cell_type": "markdown",
   "metadata": {},
   "source": [
    "## XORゲートの真理値表\n",
    "\n",
    "x1  | x2 | s1 | s2 | y\n",
    "--- |--- |--- |--- |---\n",
    "0   | 0  | 1  | 0  | 0\n",
    "1   | 0  | 1  | 1  | 1\n",
    "0   | 1  | 1  | 1  | 1\n",
    "1   | 1  | 0  | 1  | 0"
   ]
  },
  {
   "cell_type": "code",
   "execution_count": 20,
   "metadata": {},
   "outputs": [],
   "source": [
    "\"\"\"\n",
    "XORゲート\n",
    "\"\"\"\n",
    "def XOR(x1, x2):\n",
    "    s1 = NAND(x1, x2)\n",
    "    s2 = OR(x1, x2)\n",
    "    y = AND(s1, s2)\n",
    "    return y"
   ]
  },
  {
   "cell_type": "code",
   "execution_count": 21,
   "metadata": {},
   "outputs": [
    {
     "name": "stdout",
     "output_type": "stream",
     "text": [
      "0\n",
      "1\n",
      "1\n",
      "0\n"
     ]
    }
   ],
   "source": [
    "print(XOR(0, 0))\n",
    "print(XOR(1, 0))\n",
    "print(XOR(0, 1))\n",
    "print(XOR(1, 1))"
   ]
  }
 ],
 "metadata": {
  "kernelspec": {
   "display_name": "Python 3",
   "language": "python",
   "name": "python3"
  },
  "language_info": {
   "codemirror_mode": {
    "name": "ipython",
    "version": 3
   },
   "file_extension": ".py",
   "mimetype": "text/x-python",
   "name": "python",
   "nbconvert_exporter": "python",
   "pygments_lexer": "ipython3",
   "version": "3.6.6"
  }
 },
 "nbformat": 4,
 "nbformat_minor": 2
}
