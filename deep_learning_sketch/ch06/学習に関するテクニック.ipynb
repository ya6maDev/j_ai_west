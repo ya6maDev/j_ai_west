{
 "cells": [
  {
   "cell_type": "markdown",
   "metadata": {},
   "source": [
    "# 学習に関するテクニック"
   ]
  },
  {
   "cell_type": "markdown",
   "metadata": {},
   "source": [
    "# 1. パラメータの更新"
   ]
  },
  {
   "cell_type": "markdown",
   "metadata": {},
   "source": [
    "* ニューラルネットワークの学習の目的は、**損失関数の値を出来るだけ小さくするパラメータ**を見つけること。  \n",
    "   これを**「最適化(optimization)」**という。\n",
    "  \n",
    "* 最適なパラメータを見つけるために、パラメータの勾配(微分)を手がかりに、パラメータを何度も更新して、最適なパラメータへと近づけていった。  \n",
    "これを**「確率的勾配降下法(stochastic gradient descent)」、略してSGD**という。\n",
    "\n",
    "* しかしSGDは単純な方法のため、**SGDよりもスマートな別の最適化手法**が存在する。"
   ]
  },
  {
   "cell_type": "markdown",
   "metadata": {},
   "source": [
    "## 1.1 SGD"
   ]
  },
  {
   "cell_type": "markdown",
   "metadata": {},
   "source": [
    "(編集中)"
   ]
  },
  {
   "cell_type": "markdown",
   "metadata": {},
   "source": [
    "## 1.2 Momentum"
   ]
  },
  {
   "cell_type": "markdown",
   "metadata": {},
   "source": [
    "(編集中)"
   ]
  },
  {
   "cell_type": "markdown",
   "metadata": {},
   "source": [
    "## 1.3 AdaGrad"
   ]
  },
  {
   "cell_type": "markdown",
   "metadata": {},
   "source": [
    "(編集中)"
   ]
  },
  {
   "cell_type": "markdown",
   "metadata": {},
   "source": [
    "## 1.4 Adam"
   ]
  },
  {
   "cell_type": "markdown",
   "metadata": {},
   "source": [
    "(編集中)"
   ]
  },
  {
   "cell_type": "markdown",
   "metadata": {},
   "source": [
    "## 1.5 どの更新手法を用いるか?"
   ]
  },
  {
   "cell_type": "markdown",
   "metadata": {},
   "source": [
    "(編集中)"
   ]
  },
  {
   "cell_type": "markdown",
   "metadata": {},
   "source": [
    "## 1.6 MNISTデータ・セットによる更新手法の比較"
   ]
  },
  {
   "cell_type": "markdown",
   "metadata": {},
   "source": [
    "# 2. 重みの初期化"
   ]
  },
  {
   "cell_type": "markdown",
   "metadata": {},
   "source": [
    "* ニューラルネットワークの学習で特に重要なのが、**「重みの初期化」**。\n",
    "\n",
    "* 重みの初期値にどのような値を設定するかで、学習の成否が分かれることが実際によくある。"
   ]
  },
  {
   "cell_type": "markdown",
   "metadata": {},
   "source": [
    "## 2.1 重みの初期値を0にする?"
   ]
  },
  {
   "cell_type": "markdown",
   "metadata": {},
   "source": [
    "* 重みの値を小さくすることで、過学習が発生しにくくなる。\n",
    "\n",
    "* 重みを小さくするためには、初期値を0にするというアイデアが浮かぶが、それは悪いアイデア。\n",
    "\n",
    "* なぜなら誤差逆伝播法において、全ての重みの値が均一に(同じように)更新されてしまい、たくさんの重みを持つ意味がなくなる。"
   ]
  },
  {
   "cell_type": "markdown",
   "metadata": {},
   "source": [
    "## 2.2 隠れ層のアクティベーション分布"
   ]
  },
  {
   "cell_type": "code",
   "execution_count": 4,
   "metadata": {},
   "outputs": [],
   "source": [
    "import numpy as np\n",
    "import matplotlib.pyplot as plt\n",
    "%matplotlib inline\n",
    "\n",
    "def sigmoid(x):\n",
    "    return 1 / (1 + np.exp(-x))\n",
    "\n",
    "def show_activations_hist(weight):\n",
    "    \n",
    "    # 1000個のデータ\n",
    "    x = np.random.randn(1000, 100)\n",
    "    # 各隠れ層のニューロン数\n",
    "    node_num = 100\n",
    "    # 隠れ層の数\n",
    "    hidden_layer_size = 5\n",
    "    # アクティベーションの結果\n",
    "    activations = {}\n",
    "\n",
    "    for i in range(hidden_layer_size):\n",
    "        if i != 0:\n",
    "            x = activations[i - 1]\n",
    "\n",
    "        w = np.random.randn(node_num, node_num) * weight\n",
    "\n",
    "        z = np.dot(x, w)\n",
    "        a = sigmoid(z)\n",
    "        activations[i] = a\n",
    "    \n",
    "    # ヒストグラムを描画\n",
    "    for i, a in activations.items():\n",
    "        plt.subplot(1, len(activations), i + 1)\n",
    "        plt.title(str(i + 1) + \"-layer\")\n",
    "        plt.hist(a.flatten(), 30, range=(0, 1))\n",
    "    plt.show()"
   ]
  },
  {
   "cell_type": "code",
   "execution_count": 5,
   "metadata": {},
   "outputs": [
    {
     "data": {
      "image/png": "[encoded data removed]",
      "text/plain": [
       "<Figure size 432x288 with 5 Axes>"
      ]
     },
     "metadata": {},
     "output_type": "display_data"
    }
   ],
   "source": [
    "# 重みの標準偏差を1にして、ヒストグラムを描画する。\n",
    "show_activations_hist(1)"
   ]
  },
  {
   "cell_type": "markdown",
   "metadata": {},
   "source": [
    "## 勾配消失問題"
   ]
  },
  {
   "cell_type": "markdown",
   "metadata": {},
   "source": [
    "* 各層のアクティベーションは0と1に偏った分布となっている。\n",
    "\n",
    "* シグモイド関数の出力が0に近づくにつれて(または1に近づくについて)、その微分の値はゼロに近づく。\n",
    "\n",
    "* そのため0と1に偏ってデータ分布では、誤差逆伝播法での勾配の値がどんどんと小さくなって消えている。\n",
    "\n",
    "* 層を深くするディープラーニングではさらに深刻な問題となる。"
   ]
  },
  {
   "cell_type": "code",
   "execution_count": 11,
   "metadata": {},
   "outputs": [
    {
     "data": {
      "image/png": "[encoded data removed]",
      "text/plain": [
       "<Figure size 432x288 with 5 Axes>"
      ]
     },
     "metadata": {},
     "output_type": "display_data"
    }
   ],
   "source": [
    "# 重みの標準偏差を0.01にして、ヒストグラムを描画する。\n",
    "show_activations_hist(0.01)"
   ]
  },
  {
   "cell_type": "markdown",
   "metadata": {},
   "source": [
    "## 表現力が乏しくなる。"
   ]
  },
  {
   "cell_type": "markdown",
   "metadata": {},
   "source": [
    "* 各層のアクティベーションは0.5付近に集中した分布となった。\n",
    "\n",
    "* 偏りはないのいで、勾配消失問題は発生していない。\n",
    "\n",
    "* ただし、アクティベーションに偏りがあることから、表現力の問題が発生している。\n",
    "\n",
    "* 複数のニューロンが存在するのに、同じような値を出力するということは、単一のニューロンで表現が出来るため、表現力が乏しくなっている。"
   ]
  },
  {
   "cell_type": "markdown",
   "metadata": {},
   "source": [
    "## 重みの初期値のベストプラクティス"
   ]
  },
  {
   "cell_type": "markdown",
   "metadata": {},
   "source": [
    "### 活性化関数にReLUを使う場合は「Heの初期値」"
   ]
  },
  {
   "cell_type": "markdown",
   "metadata": {},
   "source": [
    "### sigmoidやtanhなどのS字カーブの時は「Xavierの初期値」"
   ]
  },
  {
   "cell_type": "markdown",
   "metadata": {},
   "source": [
    "## MNISTデータセットによる重み初期化の比較"
   ]
  },
  {
   "cell_type": "markdown",
   "metadata": {},
   "source": [
    "* 「std = 0.01」は、逆伝播の際に求める勾配が小さくなり、全く学習が進まない。\n",
    "\n",
    "* 「Xavier」と「He」の初期値の場合は、順調に学習が進む。"
   ]
  },
  {
   "cell_type": "code",
   "execution_count": 6,
   "metadata": {},
   "outputs": [
    {
     "name": "stdout",
     "output_type": "stream",
     "text": [
      "===========iteration:0===========\n",
      "std=0.01:2.3025425523512064\n",
      "Xavier:2.301227709574678\n",
      "He:2.350303643931416\n",
      "===========iteration:100===========\n",
      "std=0.01:2.301644948200619\n",
      "Xavier:2.249581535115353\n",
      "He:1.4958706440811949\n",
      "===========iteration:200===========\n",
      "std=0.01:2.3013328966121835\n",
      "Xavier:2.105597604654001\n",
      "He:0.7654280169457252\n",
      "===========iteration:300===========\n",
      "std=0.01:2.3016058457556317\n",
      "Xavier:1.7984076415443457\n",
      "He:0.49247562330912076\n",
      "===========iteration:400===========\n",
      "std=0.01:2.300589203486478\n",
      "Xavier:1.312871363601702\n",
      "He:0.40635171381621116\n",
      "===========iteration:500===========\n",
      "std=0.01:2.2981382455374924\n",
      "Xavier:0.8809283796364398\n",
      "He:0.37589386026310356\n",
      "===========iteration:600===========\n",
      "std=0.01:2.303917959650488\n",
      "Xavier:0.6681325126265287\n",
      "He:0.32536006002798223\n",
      "===========iteration:700===========\n",
      "std=0.01:2.2998547728072527\n",
      "Xavier:0.47113446922738944\n",
      "He:0.3387685345323151\n",
      "===========iteration:800===========\n",
      "std=0.01:2.299142384465822\n",
      "Xavier:0.5095952754194348\n",
      "He:0.26567716917379014\n",
      "===========iteration:900===========\n",
      "std=0.01:2.2949062989204254\n",
      "Xavier:0.4001590701819015\n",
      "He:0.24721862174529485\n",
      "===========iteration:1000===========\n",
      "std=0.01:2.302683888373784\n",
      "Xavier:0.4168874874005773\n",
      "He:0.2833614599107446\n",
      "===========iteration:1100===========\n",
      "std=0.01:2.3036840969112737\n",
      "Xavier:0.28127338736117247\n",
      "He:0.17510042787711722\n",
      "===========iteration:1200===========\n",
      "std=0.01:2.3015021246078904\n",
      "Xavier:0.5039588379127748\n",
      "He:0.36010364158232305\n",
      "===========iteration:1300===========\n",
      "std=0.01:2.305697227133771\n",
      "Xavier:0.34060038472192045\n",
      "He:0.2049625703039526\n",
      "===========iteration:1400===========\n",
      "std=0.01:2.302894541455836\n",
      "Xavier:0.36812844311890963\n",
      "He:0.2343147351194027\n",
      "===========iteration:1500===========\n",
      "std=0.01:2.298520391947209\n",
      "Xavier:0.2674203915602611\n",
      "He:0.1558929028038029\n",
      "===========iteration:1600===========\n",
      "std=0.01:2.3013984729498076\n",
      "Xavier:0.17438229033976332\n",
      "He:0.11286581912635765\n",
      "===========iteration:1700===========\n",
      "std=0.01:2.304291597031656\n",
      "Xavier:0.3902806551338185\n",
      "He:0.2904162581922432\n",
      "===========iteration:1800===========\n",
      "std=0.01:2.302775136452054\n",
      "Xavier:0.28306957062266785\n",
      "He:0.20585193102159327\n",
      "===========iteration:1900===========\n",
      "std=0.01:2.296976480747314\n",
      "Xavier:0.3627981592298477\n",
      "He:0.27018485603336756\n"
     ]
    },
    {
     "data": {
      "image/png": "[encoded data removed]",
      "text/plain": [
       "<Figure size 432x288 with 1 Axes>"
      ]
     },
     "metadata": {},
     "output_type": "display_data"
    }
   ],
   "source": [
    "# coding: utf-8\n",
    "import os\n",
    "import sys\n",
    "\n",
    "sys.path.append(os.pardir)  # 親ディレクトリのファイルをインポートするための設定\n",
    "import numpy as np\n",
    "import matplotlib.pyplot as plt\n",
    "from dataset.mnist import load_mnist\n",
    "from common.util import smooth_curve\n",
    "from common.multi_layer_net import MultiLayerNet\n",
    "from common.optimizer import SGD\n",
    "\n",
    "\n",
    "# 0:MNISTデータの読み込み==========\n",
    "(x_train, t_train), (x_test, t_test) = load_mnist(normalize=True)\n",
    "\n",
    "train_size = x_train.shape[0]\n",
    "batch_size = 128\n",
    "max_iterations = 2000\n",
    "\n",
    "\n",
    "# 1:実験の設定==========\n",
    "weight_init_types = {'std=0.01': 0.01, 'Xavier': 'sigmoid', 'He': 'relu'}\n",
    "optimizer = SGD(lr=0.01)\n",
    "\n",
    "networks = {}\n",
    "train_loss = {}\n",
    "for key, weight_type in weight_init_types.items():\n",
    "    networks[key] = MultiLayerNet(input_size=784, hidden_size_list=[100, 100, 100, 100],\n",
    "                                  output_size=10, weight_init_std=weight_type)\n",
    "    train_loss[key] = []\n",
    "\n",
    "\n",
    "# 2:訓練の開始==========\n",
    "for i in range(max_iterations):\n",
    "    batch_mask = np.random.choice(train_size, batch_size)\n",
    "    x_batch = x_train[batch_mask]\n",
    "    t_batch = t_train[batch_mask]\n",
    "    \n",
    "    for key in weight_init_types.keys():\n",
    "        grads = networks[key].gradient(x_batch, t_batch)\n",
    "        optimizer.update(networks[key].params, grads)\n",
    "    \n",
    "        loss = networks[key].loss(x_batch, t_batch)\n",
    "        train_loss[key].append(loss)\n",
    "    \n",
    "    if i % 100 == 0:\n",
    "        print(\"===========\" + \"iteration:\" + str(i) + \"===========\")\n",
    "        for key in weight_init_types.keys():\n",
    "            loss = networks[key].loss(x_batch, t_batch)\n",
    "            print(key + \":\" + str(loss))\n",
    "\n",
    "\n",
    "# 3.グラフの描画==========\n",
    "markers = {'std=0.01': 'o', 'Xavier': 's', 'He': 'D'}\n",
    "x = np.arange(max_iterations)\n",
    "for key in weight_init_types.keys():\n",
    "    plt.plot(x, smooth_curve(train_loss[key]), marker=markers[key], markevery=100, label=key)\n",
    "plt.xlabel(\"iterations\")\n",
    "plt.ylabel(\"loss\")\n",
    "plt.ylim(0, 2.5)\n",
    "plt.legend()\n",
    "plt.show()"
   ]
  },
  {
   "cell_type": "markdown",
   "metadata": {},
   "source": [
    "# 3. Batch Normalization"
   ]
  },
  {
   "cell_type": "markdown",
   "metadata": {},
   "source": [
    "* 重みの初期値を適切に設定すれば、各層のアクティベーションの分布は適度にバラつき、学習はスムーズに行われる。\n",
    "\n",
    "* 各層で適度なバラつきを持つように、**「強制的にアクティベーションの分布を調整する」**というアイデアが**Batch Normalization**である。"
   ]
  },
  {
   "cell_type": "markdown",
   "metadata": {},
   "source": [
    "## 3.1 Batch Normalizationの利点 "
   ]
  },
  {
   "cell_type": "markdown",
   "metadata": {},
   "source": [
    "* 学習を早く進行させることが出来る。(学習係数を大きくすることが出来る)\n",
    "\n",
    "* 初期値にそれほど依存しない。(初期値に対して、それほど神経質になる必要がない)\n",
    "\n",
    "* 過学習を抑制する。(Dropoutなどの必要性を減らす)"
   ]
  },
  {
   "cell_type": "code",
   "execution_count": 7,
   "metadata": {},
   "outputs": [
    {
     "name": "stdout",
     "output_type": "stream",
     "text": [
      "============== 1/16 ==============\n",
      "epoch:0 | 0.116 - 0.117\n",
      "epoch:1 | 0.117 - 0.119\n",
      "epoch:2 | 0.117 - 0.14\n",
      "epoch:3 | 0.117 - 0.174\n",
      "epoch:4 | 0.117 - 0.197\n",
      "epoch:5 | 0.117 - 0.216\n",
      "epoch:6 | 0.117 - 0.241\n",
      "epoch:7 | 0.117 - 0.272\n",
      "epoch:8 | 0.117 - 0.288\n",
      "epoch:9 | 0.117 - 0.305\n",
      "epoch:10 | 0.117 - 0.329\n",
      "epoch:11 | 0.117 - 0.345\n",
      "epoch:12 | 0.117 - 0.36\n",
      "epoch:13 | 0.117 - 0.371\n",
      "epoch:14 | 0.117 - 0.391\n",
      "epoch:15 | 0.117 - 0.405\n",
      "epoch:16 | 0.117 - 0.417\n",
      "epoch:17 | 0.117 - 0.438\n",
      "epoch:18 | 0.117 - 0.456\n"
     ]
    },
    {
     "name": "stderr",
     "output_type": "stream",
     "text": [
      "No handles with labels found to put in legend.\n"
     ]
    },
    {
     "name": "stdout",
     "output_type": "stream",
     "text": [
      "epoch:19 | 0.117 - 0.456\n",
      "============== 2/16 ==============\n",
      "epoch:0 | 0.092 - 0.09\n"
     ]
    },
    {
     "name": "stderr",
     "output_type": "stream",
     "text": [
      "..\\common\\layers.py:12: RuntimeWarning: invalid value encountered in less_equal\n",
      "  self.mask = (x <= 0)\n",
      "..\\common\\multi_layer_net_extend.py:101: RuntimeWarning: overflow encountered in square\n",
      "  weight_decay += 0.5 * self.weight_decay_lambda * np.sum(W**2)\n",
      "..\\common\\multi_layer_net_extend.py:101: RuntimeWarning: invalid value encountered in double_scalars\n",
      "  weight_decay += 0.5 * self.weight_decay_lambda * np.sum(W**2)\n",
      "C:\\Users\\y5a1m\\Anaconda3\\envs\\tf180\\lib\\site-packages\\numpy\\core\\fromnumeric.py:83: RuntimeWarning: invalid value encountered in reduce\n",
      "  return ufunc.reduce(obj, axis, dtype, out, **passkwargs)\n"
     ]
    },
    {
     "name": "stdout",
     "output_type": "stream",
     "text": [
      "epoch:1 | 0.097 - 0.091\n",
      "epoch:2 | 0.097 - 0.126\n",
      "epoch:3 | 0.097 - 0.148\n",
      "epoch:4 | 0.097 - 0.162\n",
      "epoch:5 | 0.097 - 0.188\n",
      "epoch:6 | 0.097 - 0.207\n",
      "epoch:7 | 0.097 - 0.221\n",
      "epoch:8 | 0.097 - 0.24\n",
      "epoch:9 | 0.097 - 0.26\n",
      "epoch:10 | 0.097 - 0.277\n",
      "epoch:11 | 0.097 - 0.303\n",
      "epoch:12 | 0.097 - 0.336\n",
      "epoch:13 | 0.097 - 0.342\n",
      "epoch:14 | 0.097 - 0.365\n",
      "epoch:15 | 0.097 - 0.374\n",
      "epoch:16 | 0.097 - 0.398\n",
      "epoch:17 | 0.097 - 0.41\n",
      "epoch:18 | 0.097 - 0.42\n"
     ]
    },
    {
     "name": "stderr",
     "output_type": "stream",
     "text": [
      "No handles with labels found to put in legend.\n"
     ]
    },
    {
     "name": "stdout",
     "output_type": "stream",
     "text": [
      "epoch:19 | 0.097 - 0.439\n",
      "============== 3/16 ==============\n",
      "epoch:0 | 0.085 - 0.09\n",
      "epoch:1 | 0.412 - 0.092\n",
      "epoch:2 | 0.55 - 0.13\n",
      "epoch:3 | 0.611 - 0.174\n",
      "epoch:4 | 0.694 - 0.221\n",
      "epoch:5 | 0.756 - 0.266\n",
      "epoch:6 | 0.787 - 0.302\n",
      "epoch:7 | 0.853 - 0.332\n",
      "epoch:8 | 0.889 - 0.357\n",
      "epoch:9 | 0.908 - 0.388\n",
      "epoch:10 | 0.917 - 0.413\n",
      "epoch:11 | 0.929 - 0.442\n",
      "epoch:12 | 0.939 - 0.471\n",
      "epoch:13 | 0.959 - 0.492\n",
      "epoch:14 | 0.97 - 0.522\n",
      "epoch:15 | 0.973 - 0.547\n",
      "epoch:16 | 0.977 - 0.571\n",
      "epoch:17 | 0.982 - 0.588\n",
      "epoch:18 | 0.988 - 0.61\n"
     ]
    },
    {
     "name": "stderr",
     "output_type": "stream",
     "text": [
      "No handles with labels found to put in legend.\n"
     ]
    },
    {
     "name": "stdout",
     "output_type": "stream",
     "text": [
      "epoch:19 | 0.992 - 0.624\n",
      "============== 4/16 ==============\n",
      "epoch:0 | 0.103 - 0.109\n",
      "epoch:1 | 0.247 - 0.116\n",
      "epoch:2 | 0.379 - 0.152\n",
      "epoch:3 | 0.461 - 0.219\n",
      "epoch:4 | 0.515 - 0.264\n",
      "epoch:5 | 0.56 - 0.324\n",
      "epoch:6 | 0.603 - 0.383\n",
      "epoch:7 | 0.634 - 0.451\n",
      "epoch:8 | 0.675 - 0.512\n",
      "epoch:9 | 0.695 - 0.559\n",
      "epoch:10 | 0.72 - 0.598\n",
      "epoch:11 | 0.749 - 0.624\n",
      "epoch:12 | 0.767 - 0.657\n",
      "epoch:13 | 0.783 - 0.672\n",
      "epoch:14 | 0.796 - 0.699\n",
      "epoch:15 | 0.81 - 0.724\n",
      "epoch:16 | 0.82 - 0.738\n",
      "epoch:17 | 0.835 - 0.75\n",
      "epoch:18 | 0.851 - 0.768\n"
     ]
    },
    {
     "name": "stderr",
     "output_type": "stream",
     "text": [
      "No handles with labels found to put in legend.\n"
     ]
    },
    {
     "name": "stdout",
     "output_type": "stream",
     "text": [
      "epoch:19 | 0.842 - 0.776\n",
      "============== 5/16 ==============\n",
      "epoch:0 | 0.109 - 0.092\n",
      "epoch:1 | 0.133 - 0.177\n",
      "epoch:2 | 0.152 - 0.342\n",
      "epoch:3 | 0.16 - 0.465\n",
      "epoch:4 | 0.185 - 0.557\n",
      "epoch:5 | 0.209 - 0.618\n",
      "epoch:6 | 0.22 - 0.662\n",
      "epoch:7 | 0.235 - 0.693\n",
      "epoch:8 | 0.242 - 0.727\n",
      "epoch:9 | 0.255 - 0.751\n",
      "epoch:10 | 0.261 - 0.774\n",
      "epoch:11 | 0.263 - 0.791\n",
      "epoch:12 | 0.26 - 0.81\n",
      "epoch:13 | 0.274 - 0.82\n",
      "epoch:14 | 0.28 - 0.835\n",
      "epoch:15 | 0.295 - 0.844\n",
      "epoch:16 | 0.296 - 0.857\n",
      "epoch:17 | 0.316 - 0.865\n",
      "epoch:18 | 0.327 - 0.876\n"
     ]
    },
    {
     "name": "stderr",
     "output_type": "stream",
     "text": [
      "No handles with labels found to put in legend.\n"
     ]
    },
    {
     "name": "stdout",
     "output_type": "stream",
     "text": [
      "epoch:19 | 0.337 - 0.882\n",
      "============== 6/16 ==============\n",
      "epoch:0 | 0.061 - 0.107\n",
      "epoch:1 | 0.098 - 0.208\n",
      "epoch:2 | 0.063 - 0.465\n",
      "epoch:3 | 0.096 - 0.619\n",
      "epoch:4 | 0.117 - 0.7\n",
      "epoch:5 | 0.117 - 0.739\n",
      "epoch:6 | 0.117 - 0.774\n",
      "epoch:7 | 0.117 - 0.814\n",
      "epoch:8 | 0.117 - 0.83\n",
      "epoch:9 | 0.117 - 0.852\n",
      "epoch:10 | 0.117 - 0.866\n",
      "epoch:11 | 0.117 - 0.881\n",
      "epoch:12 | 0.117 - 0.89\n",
      "epoch:13 | 0.117 - 0.9\n",
      "epoch:14 | 0.117 - 0.91\n",
      "epoch:15 | 0.117 - 0.917\n",
      "epoch:16 | 0.117 - 0.929\n",
      "epoch:17 | 0.117 - 0.933\n",
      "epoch:18 | 0.117 - 0.938\n"
     ]
    },
    {
     "name": "stderr",
     "output_type": "stream",
     "text": [
      "No handles with labels found to put in legend.\n"
     ]
    },
    {
     "name": "stdout",
     "output_type": "stream",
     "text": [
      "epoch:19 | 0.117 - 0.947\n",
      "============== 7/16 ==============\n",
      "epoch:0 | 0.097 - 0.103\n",
      "epoch:1 | 0.116 - 0.348\n",
      "epoch:2 | 0.116 - 0.621\n",
      "epoch:3 | 0.116 - 0.733\n",
      "epoch:4 | 0.116 - 0.806\n",
      "epoch:5 | 0.116 - 0.826\n",
      "epoch:6 | 0.116 - 0.87\n",
      "epoch:7 | 0.116 - 0.899\n",
      "epoch:8 | 0.116 - 0.927\n",
      "epoch:9 | 0.116 - 0.936\n",
      "epoch:10 | 0.116 - 0.944\n",
      "epoch:11 | 0.116 - 0.954\n",
      "epoch:12 | 0.116 - 0.965\n",
      "epoch:13 | 0.116 - 0.976\n",
      "epoch:14 | 0.116 - 0.98\n",
      "epoch:15 | 0.116 - 0.986\n",
      "epoch:16 | 0.116 - 0.989\n",
      "epoch:17 | 0.116 - 0.995\n",
      "epoch:18 | 0.116 - 0.994\n"
     ]
    },
    {
     "name": "stderr",
     "output_type": "stream",
     "text": [
      "No handles with labels found to put in legend.\n"
     ]
    },
    {
     "name": "stdout",
     "output_type": "stream",
     "text": [
      "epoch:19 | 0.117 - 0.995\n",
      "============== 8/16 ==============\n",
      "epoch:0 | 0.1 - 0.162\n",
      "epoch:1 | 0.105 - 0.336\n",
      "epoch:2 | 0.117 - 0.618\n",
      "epoch:3 | 0.117 - 0.701\n",
      "epoch:4 | 0.117 - 0.762\n",
      "epoch:5 | 0.117 - 0.793\n",
      "epoch:6 | 0.117 - 0.84\n",
      "epoch:7 | 0.117 - 0.901\n",
      "epoch:8 | 0.117 - 0.944\n",
      "epoch:9 | 0.117 - 0.97\n",
      "epoch:10 | 0.117 - 0.977\n",
      "epoch:11 | 0.117 - 0.984\n",
      "epoch:12 | 0.117 - 0.989\n",
      "epoch:13 | 0.117 - 0.994\n",
      "epoch:14 | 0.117 - 0.995\n",
      "epoch:15 | 0.117 - 0.996\n",
      "epoch:16 | 0.117 - 0.996\n",
      "epoch:17 | 0.117 - 0.997\n",
      "epoch:18 | 0.117 - 0.998\n"
     ]
    },
    {
     "name": "stderr",
     "output_type": "stream",
     "text": [
      "No handles with labels found to put in legend.\n"
     ]
    },
    {
     "name": "stdout",
     "output_type": "stream",
     "text": [
      "epoch:19 | 0.117 - 0.999\n",
      "============== 9/16 ==============\n",
      "epoch:0 | 0.1 - 0.1\n",
      "epoch:1 | 0.116 - 0.495\n",
      "epoch:2 | 0.116 - 0.67\n",
      "epoch:3 | 0.116 - 0.722\n",
      "epoch:4 | 0.116 - 0.789\n",
      "epoch:5 | 0.116 - 0.846\n",
      "epoch:6 | 0.116 - 0.929\n",
      "epoch:7 | 0.116 - 0.944\n",
      "epoch:8 | 0.116 - 0.96\n",
      "epoch:9 | 0.116 - 0.974\n",
      "epoch:10 | 0.116 - 0.994\n",
      "epoch:11 | 0.116 - 0.995\n",
      "epoch:12 | 0.116 - 0.998\n",
      "epoch:13 | 0.116 - 0.999\n",
      "epoch:14 | 0.116 - 0.999\n",
      "epoch:15 | 0.116 - 0.999\n",
      "epoch:16 | 0.116 - 0.999\n",
      "epoch:17 | 0.116 - 1.0\n",
      "epoch:18 | 0.116 - 1.0\n"
     ]
    },
    {
     "name": "stderr",
     "output_type": "stream",
     "text": [
      "No handles with labels found to put in legend.\n"
     ]
    },
    {
     "name": "stdout",
     "output_type": "stream",
     "text": [
      "epoch:19 | 0.116 - 1.0\n",
      "============== 10/16 ==============\n",
      "epoch:0 | 0.116 - 0.155\n",
      "epoch:1 | 0.116 - 0.549\n",
      "epoch:2 | 0.116 - 0.616\n",
      "epoch:3 | 0.116 - 0.745\n",
      "epoch:4 | 0.117 - 0.77\n",
      "epoch:5 | 0.117 - 0.807\n",
      "epoch:6 | 0.117 - 0.829\n",
      "epoch:7 | 0.117 - 0.846\n",
      "epoch:8 | 0.117 - 0.88\n",
      "epoch:9 | 0.117 - 0.888\n",
      "epoch:10 | 0.117 - 0.893\n",
      "epoch:11 | 0.117 - 0.893\n",
      "epoch:12 | 0.117 - 0.894\n",
      "epoch:13 | 0.117 - 0.899\n",
      "epoch:14 | 0.117 - 0.896\n",
      "epoch:15 | 0.117 - 0.884\n",
      "epoch:16 | 0.117 - 0.894\n",
      "epoch:17 | 0.117 - 0.888\n",
      "epoch:18 | 0.117 - 0.902\n"
     ]
    },
    {
     "name": "stderr",
     "output_type": "stream",
     "text": [
      "No handles with labels found to put in legend.\n"
     ]
    },
    {
     "name": "stdout",
     "output_type": "stream",
     "text": [
      "epoch:19 | 0.117 - 0.902\n",
      "============== 11/16 ==============\n",
      "epoch:0 | 0.117 - 0.128\n",
      "epoch:1 | 0.116 - 0.562\n",
      "epoch:2 | 0.116 - 0.679\n",
      "epoch:3 | 0.116 - 0.798\n",
      "epoch:4 | 0.116 - 0.819\n",
      "epoch:5 | 0.117 - 0.778\n",
      "epoch:6 | 0.117 - 0.86\n",
      "epoch:7 | 0.117 - 0.875\n",
      "epoch:8 | 0.117 - 0.884\n",
      "epoch:9 | 0.117 - 0.88\n",
      "epoch:10 | 0.116 - 0.895\n",
      "epoch:11 | 0.116 - 0.892\n",
      "epoch:12 | 0.116 - 0.9\n",
      "epoch:13 | 0.117 - 0.896\n",
      "epoch:14 | 0.117 - 0.9\n",
      "epoch:15 | 0.117 - 0.903\n",
      "epoch:16 | 0.117 - 0.903\n",
      "epoch:17 | 0.117 - 0.903\n",
      "epoch:18 | 0.117 - 0.903\n"
     ]
    },
    {
     "name": "stderr",
     "output_type": "stream",
     "text": [
      "No handles with labels found to put in legend.\n"
     ]
    },
    {
     "name": "stdout",
     "output_type": "stream",
     "text": [
      "epoch:19 | 0.117 - 0.875\n",
      "============== 12/16 ==============\n",
      "epoch:0 | 0.1 - 0.092\n",
      "epoch:1 | 0.116 - 0.2\n",
      "epoch:2 | 0.117 - 0.588\n",
      "epoch:3 | 0.117 - 0.662\n",
      "epoch:4 | 0.116 - 0.62\n",
      "epoch:5 | 0.116 - 0.759\n",
      "epoch:6 | 0.117 - 0.762\n",
      "epoch:7 | 0.117 - 0.778\n",
      "epoch:8 | 0.117 - 0.765\n",
      "epoch:9 | 0.117 - 0.792\n",
      "epoch:10 | 0.117 - 0.776\n",
      "epoch:11 | 0.117 - 0.791\n",
      "epoch:12 | 0.117 - 0.793\n",
      "epoch:13 | 0.117 - 0.795\n",
      "epoch:14 | 0.117 - 0.726\n",
      "epoch:15 | 0.117 - 0.794\n",
      "epoch:16 | 0.117 - 0.788\n",
      "epoch:17 | 0.117 - 0.794\n",
      "epoch:18 | 0.117 - 0.8\n"
     ]
    },
    {
     "name": "stderr",
     "output_type": "stream",
     "text": [
      "No handles with labels found to put in legend.\n"
     ]
    },
    {
     "name": "stdout",
     "output_type": "stream",
     "text": [
      "epoch:19 | 0.117 - 0.805\n",
      "============== 13/16 ==============\n",
      "epoch:0 | 0.116 - 0.098\n",
      "epoch:1 | 0.117 - 0.472\n",
      "epoch:2 | 0.117 - 0.569\n",
      "epoch:3 | 0.116 - 0.55\n",
      "epoch:4 | 0.116 - 0.573\n",
      "epoch:5 | 0.116 - 0.623\n",
      "epoch:6 | 0.116 - 0.648\n",
      "epoch:7 | 0.116 - 0.678\n",
      "epoch:8 | 0.116 - 0.766\n",
      "epoch:9 | 0.116 - 0.785\n",
      "epoch:10 | 0.116 - 0.703\n",
      "epoch:11 | 0.116 - 0.782\n",
      "epoch:12 | 0.116 - 0.79\n",
      "epoch:13 | 0.116 - 0.863\n",
      "epoch:14 | 0.116 - 0.831\n",
      "epoch:15 | 0.116 - 0.632\n",
      "epoch:16 | 0.116 - 0.883\n",
      "epoch:17 | 0.116 - 0.882\n",
      "epoch:18 | 0.116 - 0.887\n"
     ]
    },
    {
     "name": "stderr",
     "output_type": "stream",
     "text": [
      "No handles with labels found to put in legend.\n"
     ]
    },
    {
     "name": "stdout",
     "output_type": "stream",
     "text": [
      "epoch:19 | 0.116 - 0.9\n",
      "============== 14/16 ==============\n",
      "epoch:0 | 0.092 - 0.193\n",
      "epoch:1 | 0.117 - 0.419\n",
      "epoch:2 | 0.116 - 0.332\n",
      "epoch:3 | 0.117 - 0.491\n",
      "epoch:4 | 0.117 - 0.511\n",
      "epoch:5 | 0.117 - 0.594\n",
      "epoch:6 | 0.117 - 0.589\n",
      "epoch:7 | 0.117 - 0.588\n",
      "epoch:8 | 0.117 - 0.599\n",
      "epoch:9 | 0.117 - 0.61\n",
      "epoch:10 | 0.117 - 0.606\n",
      "epoch:11 | 0.117 - 0.629\n",
      "epoch:12 | 0.116 - 0.658\n",
      "epoch:13 | 0.116 - 0.698\n",
      "epoch:14 | 0.116 - 0.673\n",
      "epoch:15 | 0.117 - 0.703\n",
      "epoch:16 | 0.116 - 0.696\n",
      "epoch:17 | 0.116 - 0.707\n",
      "epoch:18 | 0.116 - 0.705\n"
     ]
    },
    {
     "name": "stderr",
     "output_type": "stream",
     "text": [
      "No handles with labels found to put in legend.\n"
     ]
    },
    {
     "name": "stdout",
     "output_type": "stream",
     "text": [
      "epoch:19 | 0.116 - 0.71\n",
      "============== 15/16 ==============\n",
      "epoch:0 | 0.092 - 0.101\n",
      "epoch:1 | 0.105 - 0.286\n",
      "epoch:2 | 0.099 - 0.314\n",
      "epoch:3 | 0.117 - 0.325\n",
      "epoch:4 | 0.116 - 0.388\n",
      "epoch:5 | 0.117 - 0.398\n",
      "epoch:6 | 0.116 - 0.399\n",
      "epoch:7 | 0.116 - 0.427\n",
      "epoch:8 | 0.116 - 0.418\n",
      "epoch:9 | 0.116 - 0.429\n",
      "epoch:10 | 0.116 - 0.431\n",
      "epoch:11 | 0.116 - 0.429\n",
      "epoch:12 | 0.116 - 0.432\n",
      "epoch:13 | 0.116 - 0.432\n",
      "epoch:14 | 0.116 - 0.418\n",
      "epoch:15 | 0.116 - 0.429\n",
      "epoch:16 | 0.116 - 0.431\n",
      "epoch:17 | 0.116 - 0.433\n",
      "epoch:18 | 0.116 - 0.433\n"
     ]
    },
    {
     "name": "stderr",
     "output_type": "stream",
     "text": [
      "No handles with labels found to put in legend.\n"
     ]
    },
    {
     "name": "stdout",
     "output_type": "stream",
     "text": [
      "epoch:19 | 0.116 - 0.432\n",
      "============== 16/16 ==============\n",
      "epoch:0 | 0.105 - 0.105\n",
      "epoch:1 | 0.116 - 0.211\n",
      "epoch:2 | 0.117 - 0.285\n",
      "epoch:3 | 0.117 - 0.312\n",
      "epoch:4 | 0.117 - 0.308\n",
      "epoch:5 | 0.117 - 0.314\n",
      "epoch:6 | 0.117 - 0.315\n",
      "epoch:7 | 0.117 - 0.262\n",
      "epoch:8 | 0.117 - 0.323\n",
      "epoch:9 | 0.117 - 0.326\n",
      "epoch:10 | 0.117 - 0.32\n",
      "epoch:11 | 0.117 - 0.323\n",
      "epoch:12 | 0.117 - 0.326\n",
      "epoch:13 | 0.117 - 0.327\n",
      "epoch:14 | 0.117 - 0.326\n",
      "epoch:15 | 0.117 - 0.323\n",
      "epoch:16 | 0.117 - 0.326\n",
      "epoch:17 | 0.117 - 0.327\n",
      "epoch:18 | 0.117 - 0.327\n",
      "epoch:19 | 0.117 - 0.329\n"
     ]
    },
    {
     "data": {
      "image/png": "[encoded data removed]",
      "text/plain": [
       "<Figure size 432x288 with 16 Axes>"
      ]
     },
     "metadata": {},
     "output_type": "display_data"
    }
   ],
   "source": [
    "# coding: utf-8\n",
    "import sys, os\n",
    "sys.path.append(os.pardir)  # 親ディレクトリのファイルをインポートするための設定\n",
    "import numpy as np\n",
    "import matplotlib.pyplot as plt\n",
    "from dataset.mnist import load_mnist\n",
    "from common.multi_layer_net_extend import MultiLayerNetExtend\n",
    "from common.optimizer import SGD, Adam\n",
    "\n",
    "(x_train, t_train), (x_test, t_test) = load_mnist(normalize=True)\n",
    "\n",
    "# 学習データを削減\n",
    "x_train = x_train[:1000]\n",
    "t_train = t_train[:1000]\n",
    "\n",
    "max_epochs = 20\n",
    "train_size = x_train.shape[0]\n",
    "batch_size = 100\n",
    "learning_rate = 0.01\n",
    "\n",
    "\n",
    "def __train(weight_init_std):\n",
    "    bn_network = MultiLayerNetExtend(input_size=784, hidden_size_list=[100, 100, 100, 100, 100], output_size=10, \n",
    "                                    weight_init_std=weight_init_std, use_batchnorm=True)\n",
    "    network = MultiLayerNetExtend(input_size=784, hidden_size_list=[100, 100, 100, 100, 100], output_size=10,\n",
    "                                weight_init_std=weight_init_std)\n",
    "    optimizer = SGD(lr=learning_rate)\n",
    "    \n",
    "    train_acc_list = []\n",
    "    bn_train_acc_list = []\n",
    "    \n",
    "    iter_per_epoch = max(train_size / batch_size, 1)\n",
    "    epoch_cnt = 0\n",
    "    \n",
    "    for i in range(1000000000):\n",
    "        batch_mask = np.random.choice(train_size, batch_size)\n",
    "        x_batch = x_train[batch_mask]\n",
    "        t_batch = t_train[batch_mask]\n",
    "    \n",
    "        for _network in (bn_network, network):\n",
    "            grads = _network.gradient(x_batch, t_batch)\n",
    "            optimizer.update(_network.params, grads)\n",
    "    \n",
    "        if i % iter_per_epoch == 0:\n",
    "            train_acc = network.accuracy(x_train, t_train)\n",
    "            bn_train_acc = bn_network.accuracy(x_train, t_train)\n",
    "            train_acc_list.append(train_acc)\n",
    "            bn_train_acc_list.append(bn_train_acc)\n",
    "    \n",
    "            print(\"epoch:\" + str(epoch_cnt) + \" | \" + str(train_acc) + \" - \" + str(bn_train_acc))\n",
    "    \n",
    "            epoch_cnt += 1\n",
    "            if epoch_cnt >= max_epochs:\n",
    "                break\n",
    "                \n",
    "    return train_acc_list, bn_train_acc_list\n",
    "\n",
    "\n",
    "# 3.グラフの描画==========\n",
    "weight_scale_list = np.logspace(0, -4, num=16)\n",
    "x = np.arange(max_epochs)\n",
    "\n",
    "for i, w in enumerate(weight_scale_list):\n",
    "    print( \"============== \" + str(i+1) + \"/16\" + \" ==============\")\n",
    "    train_acc_list, bn_train_acc_list = __train(w)\n",
    "    \n",
    "    plt.subplot(4,4,i+1)\n",
    "    plt.title(\"W:\" + str(w))\n",
    "    if i == 15:\n",
    "        plt.plot(x, bn_train_acc_list, label='Batch Normalization', markevery=2)\n",
    "        plt.plot(x, train_acc_list, linestyle = \"--\", label='Normal(without BatchNorm)', markevery=2)\n",
    "    else:\n",
    "        plt.plot(x, bn_train_acc_list, markevery=2)\n",
    "        plt.plot(x, train_acc_list, linestyle=\"--\", markevery=2)\n",
    "\n",
    "    plt.ylim(0, 1.0)\n",
    "    if i % 4:\n",
    "        plt.yticks([])\n",
    "    else:\n",
    "        plt.ylabel(\"accuracy\")\n",
    "    if i < 12:\n",
    "        plt.xticks([])\n",
    "    else:\n",
    "        plt.xlabel(\"epochs\")\n",
    "    plt.legend(loc='lower right')\n",
    "    \n",
    "plt.show()"
   ]
  },
  {
   "cell_type": "markdown",
   "metadata": {},
   "source": [
    "# 4. 正則化"
   ]
  },
  {
   "cell_type": "markdown",
   "metadata": {},
   "source": [
    "* 機械学習の問題では、**過学習**が問題になることが多くある。\n",
    "\n",
    "* 過学習とは、訓練データだけに適応し過ぎてしまい、訓練データに含まれない他のデータにはうまく対応出来ない状態を指す。\n",
    "\n",
    "* 機械学習で目指すことは、汎化性能であり、未知のデータでも正しく識別出来ることが求められる。"
   ]
  },
  {
   "cell_type": "markdown",
   "metadata": {},
   "source": [
    "## 4.1 過学習"
   ]
  },
  {
   "cell_type": "markdown",
   "metadata": {},
   "source": [
    "過学習が発生する原因として、主に次の2点が挙げられる。\n",
    "\n",
    "* パラメータを大量に持ち、表現力の高いモデルであること。\n",
    "\n",
    "* 訓練データが少ないこと。"
   ]
  },
  {
   "cell_type": "code",
   "execution_count": 8,
   "metadata": {},
   "outputs": [
    {
     "name": "stdout",
     "output_type": "stream",
     "text": [
      "epoch:0, train acc:0.08, test acc:0.0887\n",
      "epoch:1, train acc:0.07666666666666666, test acc:0.0933\n",
      "epoch:2, train acc:0.08666666666666667, test acc:0.0996\n",
      "epoch:3, train acc:0.11, test acc:0.1161\n",
      "epoch:4, train acc:0.14, test acc:0.1318\n",
      "epoch:5, train acc:0.17666666666666667, test acc:0.1516\n",
      "epoch:6, train acc:0.20333333333333334, test acc:0.1647\n",
      "epoch:7, train acc:0.24666666666666667, test acc:0.1838\n",
      "epoch:8, train acc:0.2633333333333333, test acc:0.2013\n",
      "epoch:9, train acc:0.2966666666666667, test acc:0.2143\n",
      "epoch:10, train acc:0.32, test acc:0.2279\n",
      "epoch:11, train acc:0.36666666666666664, test acc:0.2389\n",
      "epoch:12, train acc:0.39, test acc:0.2538\n",
      "epoch:13, train acc:0.38, test acc:0.2575\n",
      "epoch:14, train acc:0.3933333333333333, test acc:0.2688\n",
      "epoch:15, train acc:0.42333333333333334, test acc:0.2925\n",
      "epoch:16, train acc:0.4533333333333333, test acc:0.3078\n",
      "epoch:17, train acc:0.4766666666666667, test acc:0.32\n",
      "epoch:18, train acc:0.4866666666666667, test acc:0.3273\n",
      "epoch:19, train acc:0.5033333333333333, test acc:0.3381\n",
      "epoch:20, train acc:0.5, test acc:0.3384\n",
      "epoch:21, train acc:0.5133333333333333, test acc:0.3483\n",
      "epoch:22, train acc:0.53, test acc:0.3556\n",
      "epoch:23, train acc:0.54, test acc:0.3555\n",
      "epoch:24, train acc:0.5433333333333333, test acc:0.3587\n",
      "epoch:25, train acc:0.5366666666666666, test acc:0.3629\n",
      "epoch:26, train acc:0.5266666666666666, test acc:0.3719\n",
      "epoch:27, train acc:0.53, test acc:0.3779\n",
      "epoch:28, train acc:0.5233333333333333, test acc:0.3845\n",
      "epoch:29, train acc:0.5366666666666666, test acc:0.3824\n",
      "epoch:30, train acc:0.5333333333333333, test acc:0.381\n",
      "epoch:31, train acc:0.5333333333333333, test acc:0.3865\n",
      "epoch:32, train acc:0.5, test acc:0.3823\n",
      "epoch:33, train acc:0.51, test acc:0.3788\n",
      "epoch:34, train acc:0.49333333333333335, test acc:0.3733\n",
      "epoch:35, train acc:0.5233333333333333, test acc:0.3866\n",
      "epoch:36, train acc:0.49, test acc:0.381\n",
      "epoch:37, train acc:0.49666666666666665, test acc:0.3787\n",
      "epoch:38, train acc:0.5066666666666667, test acc:0.3965\n",
      "epoch:39, train acc:0.5166666666666667, test acc:0.4012\n",
      "epoch:40, train acc:0.4866666666666667, test acc:0.3864\n",
      "epoch:41, train acc:0.5066666666666667, test acc:0.3966\n",
      "epoch:42, train acc:0.5166666666666667, test acc:0.4068\n",
      "epoch:43, train acc:0.5633333333333334, test acc:0.4264\n",
      "epoch:44, train acc:0.56, test acc:0.4206\n",
      "epoch:45, train acc:0.5733333333333334, test acc:0.4338\n",
      "epoch:46, train acc:0.5833333333333334, test acc:0.4443\n",
      "epoch:47, train acc:0.6133333333333333, test acc:0.4535\n",
      "epoch:48, train acc:0.6, test acc:0.4494\n",
      "epoch:49, train acc:0.6, test acc:0.4566\n",
      "epoch:50, train acc:0.6033333333333334, test acc:0.4601\n",
      "epoch:51, train acc:0.63, test acc:0.4811\n",
      "epoch:52, train acc:0.63, test acc:0.4721\n",
      "epoch:53, train acc:0.6566666666666666, test acc:0.499\n",
      "epoch:54, train acc:0.65, test acc:0.499\n",
      "epoch:55, train acc:0.6533333333333333, test acc:0.4974\n",
      "epoch:56, train acc:0.67, test acc:0.5057\n",
      "epoch:57, train acc:0.6766666666666666, test acc:0.517\n",
      "epoch:58, train acc:0.67, test acc:0.5192\n",
      "epoch:59, train acc:0.6633333333333333, test acc:0.5214\n",
      "epoch:60, train acc:0.68, test acc:0.5184\n",
      "epoch:61, train acc:0.6766666666666666, test acc:0.5326\n",
      "epoch:62, train acc:0.6933333333333334, test acc:0.5406\n",
      "epoch:63, train acc:0.6866666666666666, test acc:0.5328\n",
      "epoch:64, train acc:0.6833333333333333, test acc:0.5438\n",
      "epoch:65, train acc:0.6866666666666666, test acc:0.543\n",
      "epoch:66, train acc:0.7066666666666667, test acc:0.5545\n",
      "epoch:67, train acc:0.7166666666666667, test acc:0.5583\n",
      "epoch:68, train acc:0.7433333333333333, test acc:0.5738\n",
      "epoch:69, train acc:0.7266666666666667, test acc:0.5671\n",
      "epoch:70, train acc:0.7566666666666667, test acc:0.5765\n",
      "epoch:71, train acc:0.75, test acc:0.5808\n",
      "epoch:72, train acc:0.7633333333333333, test acc:0.5886\n",
      "epoch:73, train acc:0.7666666666666667, test acc:0.5942\n",
      "epoch:74, train acc:0.7633333333333333, test acc:0.5945\n",
      "epoch:75, train acc:0.78, test acc:0.5977\n",
      "epoch:76, train acc:0.7633333333333333, test acc:0.6022\n",
      "epoch:77, train acc:0.7933333333333333, test acc:0.608\n",
      "epoch:78, train acc:0.79, test acc:0.6073\n",
      "epoch:79, train acc:0.7833333333333333, test acc:0.612\n",
      "epoch:80, train acc:0.79, test acc:0.6154\n",
      "epoch:81, train acc:0.77, test acc:0.6004\n",
      "epoch:82, train acc:0.7866666666666666, test acc:0.6095\n",
      "epoch:83, train acc:0.8133333333333334, test acc:0.6186\n",
      "epoch:84, train acc:0.79, test acc:0.6235\n",
      "epoch:85, train acc:0.79, test acc:0.6223\n",
      "epoch:86, train acc:0.7933333333333333, test acc:0.615\n",
      "epoch:87, train acc:0.7933333333333333, test acc:0.6185\n",
      "epoch:88, train acc:0.8033333333333333, test acc:0.6257\n",
      "epoch:89, train acc:0.7933333333333333, test acc:0.6296\n",
      "epoch:90, train acc:0.7933333333333333, test acc:0.6221\n",
      "epoch:91, train acc:0.7966666666666666, test acc:0.6217\n",
      "epoch:92, train acc:0.7933333333333333, test acc:0.6171\n",
      "epoch:93, train acc:0.8266666666666667, test acc:0.6308\n",
      "epoch:94, train acc:0.7933333333333333, test acc:0.6192\n",
      "epoch:95, train acc:0.8166666666666667, test acc:0.6191\n",
      "epoch:96, train acc:0.8166666666666667, test acc:0.632\n",
      "epoch:97, train acc:0.81, test acc:0.6371\n",
      "epoch:98, train acc:0.8266666666666667, test acc:0.6363\n",
      "epoch:99, train acc:0.8266666666666667, test acc:0.6402\n",
      "epoch:100, train acc:0.8133333333333334, test acc:0.6425\n",
      "epoch:101, train acc:0.8233333333333334, test acc:0.645\n",
      "epoch:102, train acc:0.8333333333333334, test acc:0.6461\n",
      "epoch:103, train acc:0.8133333333333334, test acc:0.6404\n",
      "epoch:104, train acc:0.81, test acc:0.6438\n",
      "epoch:105, train acc:0.8, test acc:0.625\n",
      "epoch:106, train acc:0.8233333333333334, test acc:0.6462\n",
      "epoch:107, train acc:0.8333333333333334, test acc:0.6519\n",
      "epoch:108, train acc:0.83, test acc:0.6497\n",
      "epoch:109, train acc:0.8333333333333334, test acc:0.6485\n",
      "epoch:110, train acc:0.8333333333333334, test acc:0.6527\n",
      "epoch:111, train acc:0.83, test acc:0.655\n",
      "epoch:112, train acc:0.8333333333333334, test acc:0.6545\n",
      "epoch:113, train acc:0.8366666666666667, test acc:0.6623\n",
      "epoch:114, train acc:0.8366666666666667, test acc:0.6573\n",
      "epoch:115, train acc:0.8433333333333334, test acc:0.6645\n",
      "epoch:116, train acc:0.8566666666666667, test acc:0.6745\n",
      "epoch:117, train acc:0.8266666666666667, test acc:0.659\n",
      "epoch:118, train acc:0.8333333333333334, test acc:0.653\n",
      "epoch:119, train acc:0.84, test acc:0.6555\n",
      "epoch:120, train acc:0.8566666666666667, test acc:0.6692\n",
      "epoch:121, train acc:0.8466666666666667, test acc:0.6635\n",
      "epoch:122, train acc:0.86, test acc:0.6776\n",
      "epoch:123, train acc:0.8466666666666667, test acc:0.6735\n",
      "epoch:124, train acc:0.8366666666666667, test acc:0.6653\n",
      "epoch:125, train acc:0.8466666666666667, test acc:0.6731\n",
      "epoch:126, train acc:0.85, test acc:0.6739\n",
      "epoch:127, train acc:0.85, test acc:0.6754\n",
      "epoch:128, train acc:0.85, test acc:0.6751\n",
      "epoch:129, train acc:0.8633333333333333, test acc:0.6835\n",
      "epoch:130, train acc:0.8466666666666667, test acc:0.6812\n",
      "epoch:131, train acc:0.8666666666666667, test acc:0.6856\n",
      "epoch:132, train acc:0.8633333333333333, test acc:0.6812\n",
      "epoch:133, train acc:0.8733333333333333, test acc:0.6836\n",
      "epoch:134, train acc:0.8666666666666667, test acc:0.6818\n",
      "epoch:135, train acc:0.8533333333333334, test acc:0.683\n",
      "epoch:136, train acc:0.86, test acc:0.6901\n",
      "epoch:137, train acc:0.8566666666666667, test acc:0.6843\n",
      "epoch:138, train acc:0.8633333333333333, test acc:0.6845\n",
      "epoch:139, train acc:0.8566666666666667, test acc:0.677\n",
      "epoch:140, train acc:0.8633333333333333, test acc:0.6821\n",
      "epoch:141, train acc:0.8566666666666667, test acc:0.6807\n",
      "epoch:142, train acc:0.8433333333333334, test acc:0.6802\n",
      "epoch:143, train acc:0.8666666666666667, test acc:0.687\n",
      "epoch:144, train acc:0.8733333333333333, test acc:0.6839\n",
      "epoch:145, train acc:0.8633333333333333, test acc:0.695\n",
      "epoch:146, train acc:0.8633333333333333, test acc:0.6887\n",
      "epoch:147, train acc:0.8633333333333333, test acc:0.6846\n",
      "epoch:148, train acc:0.86, test acc:0.6796\n",
      "epoch:149, train acc:0.8566666666666667, test acc:0.6853\n",
      "epoch:150, train acc:0.8633333333333333, test acc:0.6927\n",
      "epoch:151, train acc:0.87, test acc:0.686\n",
      "epoch:152, train acc:0.8533333333333334, test acc:0.6775\n",
      "epoch:153, train acc:0.8566666666666667, test acc:0.6845\n",
      "epoch:154, train acc:0.8533333333333334, test acc:0.682\n",
      "epoch:155, train acc:0.8733333333333333, test acc:0.6905\n",
      "epoch:156, train acc:0.8633333333333333, test acc:0.6911\n"
     ]
    },
    {
     "name": "stdout",
     "output_type": "stream",
     "text": [
      "epoch:157, train acc:0.8733333333333333, test acc:0.6933\n",
      "epoch:158, train acc:0.8533333333333334, test acc:0.6852\n",
      "epoch:159, train acc:0.85, test acc:0.6796\n",
      "epoch:160, train acc:0.8466666666666667, test acc:0.6817\n",
      "epoch:161, train acc:0.8566666666666667, test acc:0.689\n",
      "epoch:162, train acc:0.85, test acc:0.6799\n",
      "epoch:163, train acc:0.8533333333333334, test acc:0.68\n",
      "epoch:164, train acc:0.8633333333333333, test acc:0.6847\n",
      "epoch:165, train acc:0.8633333333333333, test acc:0.6866\n",
      "epoch:166, train acc:0.8733333333333333, test acc:0.6963\n",
      "epoch:167, train acc:0.8666666666666667, test acc:0.6948\n",
      "epoch:168, train acc:0.86, test acc:0.6846\n",
      "epoch:169, train acc:0.86, test acc:0.6875\n",
      "epoch:170, train acc:0.86, test acc:0.6872\n",
      "epoch:171, train acc:0.8533333333333334, test acc:0.6848\n",
      "epoch:172, train acc:0.8666666666666667, test acc:0.692\n",
      "epoch:173, train acc:0.8633333333333333, test acc:0.6829\n",
      "epoch:174, train acc:0.87, test acc:0.6971\n",
      "epoch:175, train acc:0.8666666666666667, test acc:0.6938\n",
      "epoch:176, train acc:0.8733333333333333, test acc:0.6947\n",
      "epoch:177, train acc:0.8733333333333333, test acc:0.699\n",
      "epoch:178, train acc:0.8866666666666667, test acc:0.7019\n",
      "epoch:179, train acc:0.88, test acc:0.7031\n",
      "epoch:180, train acc:0.8833333333333333, test acc:0.7006\n",
      "epoch:181, train acc:0.8766666666666667, test acc:0.6957\n",
      "epoch:182, train acc:0.8666666666666667, test acc:0.7001\n",
      "epoch:183, train acc:0.8666666666666667, test acc:0.6929\n",
      "epoch:184, train acc:0.8733333333333333, test acc:0.7032\n",
      "epoch:185, train acc:0.87, test acc:0.7022\n",
      "epoch:186, train acc:0.86, test acc:0.6945\n",
      "epoch:187, train acc:0.87, test acc:0.6958\n",
      "epoch:188, train acc:0.8666666666666667, test acc:0.6914\n",
      "epoch:189, train acc:0.88, test acc:0.6995\n",
      "epoch:190, train acc:0.86, test acc:0.696\n",
      "epoch:191, train acc:0.8766666666666667, test acc:0.7027\n",
      "epoch:192, train acc:0.8633333333333333, test acc:0.687\n",
      "epoch:193, train acc:0.8733333333333333, test acc:0.6987\n",
      "epoch:194, train acc:0.8766666666666667, test acc:0.6971\n",
      "epoch:195, train acc:0.88, test acc:0.7019\n",
      "epoch:196, train acc:0.8666666666666667, test acc:0.7007\n",
      "epoch:197, train acc:0.86, test acc:0.6946\n",
      "epoch:198, train acc:0.8666666666666667, test acc:0.6961\n",
      "epoch:199, train acc:0.87, test acc:0.7032\n",
      "epoch:200, train acc:0.8766666666666667, test acc:0.6991\n"
     ]
    },
    {
     "data": {
      "image/png": "[encoded data removed]",
      "text/plain": [
       "<Figure size 432x288 with 1 Axes>"
      ]
     },
     "metadata": {},
     "output_type": "display_data"
    }
   ],
   "source": [
    "# coding: utf-8\n",
    "import os\n",
    "import sys\n",
    "\n",
    "sys.path.append(os.pardir)  # 親ディレクトリのファイルをインポートするための設定\n",
    "import numpy as np\n",
    "import matplotlib.pyplot as plt\n",
    "from dataset.mnist import load_mnist\n",
    "from common.multi_layer_net import MultiLayerNet\n",
    "from common.optimizer import SGD\n",
    "\n",
    "(x_train, t_train), (x_test, t_test) = load_mnist(normalize=True)\n",
    "\n",
    "# 過学習を再現するために、学習データを削減\n",
    "x_train = x_train[:300]\n",
    "t_train = t_train[:300]\n",
    "\n",
    "# weight decay（荷重減衰）の設定 =======================\n",
    "#weight_decay_lambda = 0 # weight decayを使用しない場合\n",
    "weight_decay_lambda = 0.1\n",
    "# ====================================================\n",
    "\n",
    "network = MultiLayerNet(input_size=784, hidden_size_list=[100, 100, 100, 100, 100, 100], output_size=10,\n",
    "                        weight_decay_lambda=weight_decay_lambda)\n",
    "optimizer = SGD(lr=0.01)\n",
    "\n",
    "max_epochs = 201\n",
    "train_size = x_train.shape[0]\n",
    "batch_size = 100\n",
    "\n",
    "train_loss_list = []\n",
    "train_acc_list = []\n",
    "test_acc_list = []\n",
    "\n",
    "iter_per_epoch = max(train_size / batch_size, 1)\n",
    "epoch_cnt = 0\n",
    "\n",
    "for i in range(1000000000):\n",
    "    batch_mask = np.random.choice(train_size, batch_size)\n",
    "    x_batch = x_train[batch_mask]\n",
    "    t_batch = t_train[batch_mask]\n",
    "\n",
    "    grads = network.gradient(x_batch, t_batch)\n",
    "    optimizer.update(network.params, grads)\n",
    "\n",
    "    if i % iter_per_epoch == 0:\n",
    "        train_acc = network.accuracy(x_train, t_train)\n",
    "        test_acc = network.accuracy(x_test, t_test)\n",
    "        train_acc_list.append(train_acc)\n",
    "        test_acc_list.append(test_acc)\n",
    "\n",
    "        print(\"epoch:\" + str(epoch_cnt) + \", train acc:\" + str(train_acc) + \", test acc:\" + str(test_acc))\n",
    "\n",
    "        epoch_cnt += 1\n",
    "        if epoch_cnt >= max_epochs:\n",
    "            break\n",
    "\n",
    "\n",
    "# 3.グラフの描画==========\n",
    "markers = {'train': 'o', 'test': 's'}\n",
    "x = np.arange(max_epochs)\n",
    "plt.plot(x, train_acc_list, marker='o', label='train', markevery=10)\n",
    "plt.plot(x, test_acc_list, marker='s', label='test', markevery=10)\n",
    "plt.xlabel(\"epochs\")\n",
    "plt.ylabel(\"accuracy\")\n",
    "plt.ylim(0, 1.0)\n",
    "plt.legend(loc='lower right')\n",
    "plt.show()"
   ]
  },
  {
   "cell_type": "markdown",
   "metadata": {},
   "source": [
    "## 4.2 Weight decay"
   ]
  },
  {
   "cell_type": "markdown",
   "metadata": {},
   "source": [
    "* 学習の過程において、大きな重みを持つことに対してペナルティを課すことで、過学習を抑制しようとするもの。"
   ]
  },
  {
   "cell_type": "markdown",
   "metadata": {},
   "source": [
    "## 4.3 Dropout"
   ]
  },
  {
   "cell_type": "markdown",
   "metadata": {},
   "source": [
    "* ニューロンをランダムに消去しながら学習する手法。\n",
    "\n",
    "* 消去されたニューロンは、信号の伝達が行われない。"
   ]
  },
  {
   "cell_type": "markdown",
   "metadata": {},
   "source": [
    "# 5. ハイパーパラメータの検証"
   ]
  },
  {
   "cell_type": "markdown",
   "metadata": {},
   "source": [
    "* ニューラルネットワークでは、重みやバイアスといったパラメータとは別に、ハイパーパラメータが多く存在する。\n",
    "\n",
    "* ハイパーパラメータとは、例えば各層のニューロンの数やバッチサイズ、パラメータを更新する際の学習係数や、Weight decayなどを指す。\n",
    "\n",
    "* ハイパーパラメータの値を決定することは、一般的に多くの試行錯誤が伴う。"
   ]
  },
  {
   "cell_type": "markdown",
   "metadata": {},
   "source": [
    "# 6. まとめ"
   ]
  },
  {
   "cell_type": "markdown",
   "metadata": {},
   "source": [
    "* パラメータの更新方法には、SGDの他に、有名なものとして、MomenturmやAdaGrad、Adamなどの手法がある。\n",
    "\n",
    "* 重みの初期値の与え方は、正しい学習を行う上で非常に重量な問題である。\n",
    "\n",
    "* 重みの初期値として、「Xavierの初期値」や「Heの初期値」などが有名である。\n",
    "\n",
    "* 「BatchNormalization」を用いることで、学習を早く進めることが出来る。\n",
    "\n",
    "* 過学習を抑制するための正則化の技術として、Weight decayやDropoutがある。\n",
    "\n",
    "* ハイパーパラメータの探索は、良い値が存在する範囲を徐々に絞りながら進めるのが効率の良い方法である。"
   ]
  }
 ],
 "metadata": {
  "kernelspec": {
   "display_name": "Python 3",
   "language": "python",
   "name": "python3"
  },
  "language_info": {
   "codemirror_mode": {
    "name": "ipython",
    "version": 3
   },
   "file_extension": ".py",
   "mimetype": "text/x-python",
   "name": "python",
   "nbconvert_exporter": "python",
   "pygments_lexer": "ipython3",
   "version": "3.6.6"
  }
 },
 "nbformat": 4,
 "nbformat_minor": 2
}
